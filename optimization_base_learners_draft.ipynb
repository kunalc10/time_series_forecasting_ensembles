{
 "cells": [
  {
   "cell_type": "code",
   "execution_count": 368,
   "id": "guilty-mercury",
   "metadata": {},
   "outputs": [],
   "source": [
    "import pandas as pd\n",
    "import numpy as np\n",
    "import matplotlib.pyplot as plt\n",
    "%matplotlib inline\n",
    "from datetime import datetime"
   ]
  },
  {
   "cell_type": "code",
   "execution_count": 369,
   "id": "vocational-variety",
   "metadata": {},
   "outputs": [],
   "source": [
    "import warnings\n",
    "warnings.filterwarnings(\"ignore\")"
   ]
  },
  {
   "cell_type": "code",
   "execution_count": 370,
   "id": "fitting-depth",
   "metadata": {},
   "outputs": [
    {
     "name": "stdout",
     "output_type": "stream",
     "text": [
      "/Users/kunalchakraborty/Downloads/industry_project_HQ\n"
     ]
    }
   ],
   "source": [
    "## Read data\n",
    "import os\n",
    "print(os.getcwd())"
   ]
  },
  {
   "cell_type": "code",
   "execution_count": 371,
   "id": "wrong-heavy",
   "metadata": {},
   "outputs": [],
   "source": [
    "### Load training data\n",
    "data = pd.read_csv(\"data/ag_transformed_features.csv\")\n",
    "## Transform date\n",
    "data[\"date\"] = data[\"date\"].apply(lambda x: datetime.strptime(x, \"%Y-%m-%d\").date())"
   ]
  },
  {
   "cell_type": "code",
   "execution_count": 372,
   "id": "entertaining-permit",
   "metadata": {},
   "outputs": [],
   "source": [
    "used_features = [\"dfy\", \"infl\", \"svar\", \"d/e\", \"lty\", \"tms\", \"tbl\", \"dfr\", \"d/p\", \"d/y\", \"ltr\", \"e/p\"]\n",
    "target = [\"premium\"]"
   ]
  },
  {
   "cell_type": "code",
   "execution_count": 373,
   "id": "productive-florist",
   "metadata": {},
   "outputs": [],
   "source": [
    "data.set_index(\"date\", inplace=True)"
   ]
  },
  {
   "cell_type": "markdown",
   "id": "closed-player",
   "metadata": {},
   "source": [
    "## Step1 : Rolling window training"
   ]
  },
  {
   "cell_type": "markdown",
   "id": "handy-fusion",
   "metadata": {},
   "source": [
    "\n",
    "#### Restrict to using sklearn features"
   ]
  },
  {
   "cell_type": "code",
   "execution_count": 374,
   "id": "russian-south",
   "metadata": {},
   "outputs": [],
   "source": [
    "from sklearn import linear_model\n",
    "reg = linear_model.LinearRegression()"
   ]
  },
  {
   "cell_type": "code",
   "execution_count": 375,
   "id": "everyday-aspect",
   "metadata": {},
   "outputs": [
    {
     "data": {
      "text/html": [
       "<div>\n",
       "<style scoped>\n",
       "    .dataframe tbody tr th:only-of-type {\n",
       "        vertical-align: middle;\n",
       "    }\n",
       "\n",
       "    .dataframe tbody tr th {\n",
       "        vertical-align: top;\n",
       "    }\n",
       "\n",
       "    .dataframe thead th {\n",
       "        text-align: right;\n",
       "    }\n",
       "</style>\n",
       "<table border=\"1\" class=\"dataframe\">\n",
       "  <thead>\n",
       "    <tr style=\"text-align: right;\">\n",
       "      <th></th>\n",
       "      <th>Index</th>\n",
       "      <th>D12</th>\n",
       "      <th>E12</th>\n",
       "      <th>b/m</th>\n",
       "      <th>tbl</th>\n",
       "      <th>AAA</th>\n",
       "      <th>BAA</th>\n",
       "      <th>lty</th>\n",
       "      <th>ntis</th>\n",
       "      <th>Rfree</th>\n",
       "      <th>...</th>\n",
       "      <th>CRSP_SPvwx</th>\n",
       "      <th>returns</th>\n",
       "      <th>premium</th>\n",
       "      <th>d/p</th>\n",
       "      <th>d/y</th>\n",
       "      <th>e/p</th>\n",
       "      <th>d/e</th>\n",
       "      <th>tms</th>\n",
       "      <th>dfy</th>\n",
       "      <th>dfr</th>\n",
       "    </tr>\n",
       "    <tr>\n",
       "      <th>date</th>\n",
       "      <th></th>\n",
       "      <th></th>\n",
       "      <th></th>\n",
       "      <th></th>\n",
       "      <th></th>\n",
       "      <th></th>\n",
       "      <th></th>\n",
       "      <th></th>\n",
       "      <th></th>\n",
       "      <th></th>\n",
       "      <th></th>\n",
       "      <th></th>\n",
       "      <th></th>\n",
       "      <th></th>\n",
       "      <th></th>\n",
       "      <th></th>\n",
       "      <th></th>\n",
       "      <th></th>\n",
       "      <th></th>\n",
       "      <th></th>\n",
       "      <th></th>\n",
       "    </tr>\n",
       "  </thead>\n",
       "  <tbody>\n",
       "    <tr>\n",
       "      <th>1959-01-01</th>\n",
       "      <td>55.42</td>\n",
       "      <td>1.75667</td>\n",
       "      <td>2.96333</td>\n",
       "      <td>0.502896</td>\n",
       "      <td>0.0282</td>\n",
       "      <td>0.0412</td>\n",
       "      <td>0.0487</td>\n",
       "      <td>0.0408</td>\n",
       "      <td>0.027736</td>\n",
       "      <td>0.0021</td>\n",
       "      <td>...</td>\n",
       "      <td>0.005395</td>\n",
       "      <td>NaN</td>\n",
       "      <td>NaN</td>\n",
       "      <td>-3.451521</td>\n",
       "      <td>NaN</td>\n",
       "      <td>-2.928627</td>\n",
       "      <td>-0.522894</td>\n",
       "      <td>0.0126</td>\n",
       "      <td>0.0075</td>\n",
       "      <td>0.0052</td>\n",
       "    </tr>\n",
       "    <tr>\n",
       "      <th>1959-02-01</th>\n",
       "      <td>55.41</td>\n",
       "      <td>1.76333</td>\n",
       "      <td>3.03667</td>\n",
       "      <td>0.494946</td>\n",
       "      <td>0.0270</td>\n",
       "      <td>0.0414</td>\n",
       "      <td>0.0489</td>\n",
       "      <td>0.0402</td>\n",
       "      <td>0.027899</td>\n",
       "      <td>0.0019</td>\n",
       "      <td>...</td>\n",
       "      <td>0.002210</td>\n",
       "      <td>0.002471</td>\n",
       "      <td>0.000571</td>\n",
       "      <td>-3.447556</td>\n",
       "      <td>-3.447736</td>\n",
       "      <td>-2.903999</td>\n",
       "      <td>-0.543557</td>\n",
       "      <td>0.0132</td>\n",
       "      <td>0.0075</td>\n",
       "      <td>0.0009</td>\n",
       "    </tr>\n",
       "    <tr>\n",
       "      <th>1959-03-01</th>\n",
       "      <td>55.44</td>\n",
       "      <td>1.77000</td>\n",
       "      <td>3.11000</td>\n",
       "      <td>0.516860</td>\n",
       "      <td>0.0280</td>\n",
       "      <td>0.0413</td>\n",
       "      <td>0.0485</td>\n",
       "      <td>0.0403</td>\n",
       "      <td>0.024984</td>\n",
       "      <td>0.0022</td>\n",
       "      <td>...</td>\n",
       "      <td>0.000826</td>\n",
       "      <td>0.003203</td>\n",
       "      <td>0.001003</td>\n",
       "      <td>-3.444322</td>\n",
       "      <td>-3.443781</td>\n",
       "      <td>-2.880679</td>\n",
       "      <td>-0.563643</td>\n",
       "      <td>0.0123</td>\n",
       "      <td>0.0072</td>\n",
       "      <td>-0.0100</td>\n",
       "    </tr>\n",
       "    <tr>\n",
       "      <th>1959-04-01</th>\n",
       "      <td>57.59</td>\n",
       "      <td>1.77667</td>\n",
       "      <td>3.20667</td>\n",
       "      <td>0.498597</td>\n",
       "      <td>0.0295</td>\n",
       "      <td>0.0423</td>\n",
       "      <td>0.0486</td>\n",
       "      <td>0.0414</td>\n",
       "      <td>0.024361</td>\n",
       "      <td>0.0020</td>\n",
       "      <td>...</td>\n",
       "      <td>0.039093</td>\n",
       "      <td>0.041451</td>\n",
       "      <td>0.039451</td>\n",
       "      <td>-3.478608</td>\n",
       "      <td>-3.440561</td>\n",
       "      <td>-2.888116</td>\n",
       "      <td>-0.590492</td>\n",
       "      <td>0.0119</td>\n",
       "      <td>0.0063</td>\n",
       "      <td>-0.0055</td>\n",
       "    </tr>\n",
       "    <tr>\n",
       "      <th>1959-05-01</th>\n",
       "      <td>58.68</td>\n",
       "      <td>1.78333</td>\n",
       "      <td>3.30333</td>\n",
       "      <td>0.483077</td>\n",
       "      <td>0.0284</td>\n",
       "      <td>0.0437</td>\n",
       "      <td>0.0496</td>\n",
       "      <td>0.0417</td>\n",
       "      <td>0.025887</td>\n",
       "      <td>0.0022</td>\n",
       "      <td>...</td>\n",
       "      <td>0.019043</td>\n",
       "      <td>0.021507</td>\n",
       "      <td>0.019307</td>\n",
       "      <td>-3.493617</td>\n",
       "      <td>-3.474867</td>\n",
       "      <td>-2.877168</td>\n",
       "      <td>-0.616449</td>\n",
       "      <td>0.0133</td>\n",
       "      <td>0.0059</td>\n",
       "      <td>-0.0109</td>\n",
       "    </tr>\n",
       "  </tbody>\n",
       "</table>\n",
       "<p>5 rows × 26 columns</p>\n",
       "</div>"
      ],
      "text/plain": [
       "            Index      D12      E12       b/m     tbl     AAA     BAA     lty  \\\n",
       "date                                                                            \n",
       "1959-01-01  55.42  1.75667  2.96333  0.502896  0.0282  0.0412  0.0487  0.0408   \n",
       "1959-02-01  55.41  1.76333  3.03667  0.494946  0.0270  0.0414  0.0489  0.0402   \n",
       "1959-03-01  55.44  1.77000  3.11000  0.516860  0.0280  0.0413  0.0485  0.0403   \n",
       "1959-04-01  57.59  1.77667  3.20667  0.498597  0.0295  0.0423  0.0486  0.0414   \n",
       "1959-05-01  58.68  1.78333  3.30333  0.483077  0.0284  0.0437  0.0496  0.0417   \n",
       "\n",
       "                ntis   Rfree  ...  CRSP_SPvwx   returns   premium       d/p  \\\n",
       "date                          ...                                             \n",
       "1959-01-01  0.027736  0.0021  ...    0.005395       NaN       NaN -3.451521   \n",
       "1959-02-01  0.027899  0.0019  ...    0.002210  0.002471  0.000571 -3.447556   \n",
       "1959-03-01  0.024984  0.0022  ...    0.000826  0.003203  0.001003 -3.444322   \n",
       "1959-04-01  0.024361  0.0020  ...    0.039093  0.041451  0.039451 -3.478608   \n",
       "1959-05-01  0.025887  0.0022  ...    0.019043  0.021507  0.019307 -3.493617   \n",
       "\n",
       "                 d/y       e/p       d/e     tms     dfy     dfr  \n",
       "date                                                              \n",
       "1959-01-01       NaN -2.928627 -0.522894  0.0126  0.0075  0.0052  \n",
       "1959-02-01 -3.447736 -2.903999 -0.543557  0.0132  0.0075  0.0009  \n",
       "1959-03-01 -3.443781 -2.880679 -0.563643  0.0123  0.0072 -0.0100  \n",
       "1959-04-01 -3.440561 -2.888116 -0.590492  0.0119  0.0063 -0.0055  \n",
       "1959-05-01 -3.474867 -2.877168 -0.616449  0.0133  0.0059 -0.0109  \n",
       "\n",
       "[5 rows x 26 columns]"
      ]
     },
     "execution_count": 375,
     "metadata": {},
     "output_type": "execute_result"
    }
   ],
   "source": [
    "data.head()"
   ]
  },
  {
   "cell_type": "code",
   "execution_count": 376,
   "id": "interpreted-spray",
   "metadata": {},
   "outputs": [],
   "source": [
    "from sklearn.preprocessing import StandardScaler\n",
    "\n",
    "scaler = StandardScaler()\n",
    "\n",
    "def fix_pred_format(pred_array):\n",
    "    pred_list = []\n",
    "    for pred in pred_array:\n",
    "        pred_list.append(pred[0])\n",
    "    return pred_list"
   ]
  },
  {
   "cell_type": "code",
   "execution_count": 377,
   "id": "medium-egypt",
   "metadata": {},
   "outputs": [],
   "source": [
    "\n",
    "# ### Write a function for rolling model training. Use it for predictions as well\n",
    "# def roll_training(Y,X, datelist, model, model_name, train_rolling_length = 60, test_rolling_length = 1):\n",
    "#     \"\"\"\n",
    "#     Y : Target variable\n",
    "#     X : Training data\n",
    "#     \"\"\"\n",
    "    \n",
    "#     predictions = []\n",
    "#     int_start  = 0\n",
    "#     for int_end in range(train_rolling_length, len(datelist), test_rolling_length):\n",
    "#         # Define intervals\n",
    "#         train_interval = datelist[int_start:int_end]\n",
    "#         test_interval = datelist[int_end:int_end+test_rolling_length]\n",
    "#         # Training data\n",
    "#         Yt = Y.loc[train_interval]\n",
    "#         Xt = X.loc[train_interval]\n",
    "#         # Testing data\n",
    "#         Xt_test = X.loc[test_interval]\n",
    "#         # Normalize data\n",
    "#         Xt = scaler.fit_transform(Xt)\n",
    "#         Xt_test = scaler.transform(Xt_test)\n",
    "        \n",
    "#         model.fit(Xt,Yt)\n",
    "#         # Perform prediction\n",
    "#         Yt_pred = model.predict(Xt_test)\n",
    "#         if model_name == \"reg\":\n",
    "#             # Fix prediction format\n",
    "#             Yt_pred = fix_pred_format(Yt_pred)\n",
    "#         df_temp = pd.DataFrame([test_interval, Yt_pred]).T\n",
    "#         df_temp.columns = [\"date\",model_name]\n",
    "#         predictions.append(df_temp)\n",
    "#         # Update index\n",
    "#         int_start += test_rolling_length\n",
    "        \n",
    "#     pred_df = pd.concat(predictions)\n",
    "#     return pred_df"
   ]
  },
  {
   "cell_type": "code",
   "execution_count": 378,
   "id": "nuclear-norwegian",
   "metadata": {},
   "outputs": [],
   "source": [
    "# ## Check the rolling window training scheme\n",
    "\n",
    "# ### Write a function for rolling model training. Use it for predictions as well\n",
    "# def roll_training(Y,X, datelist, model, model_name, train_rolling_length = 60, test_rolling_length = 1, verbose=False):\n",
    "#     \"\"\"\n",
    "#     Y : Target variable\n",
    "#     X : Training data\n",
    "#     \"\"\"\n",
    "    \n",
    "#     predictions = []\n",
    "#     int_start  = 0\n",
    "#     for int_end in range(train_rolling_length, len(datelist)-1, test_rolling_length):\n",
    "#         # Define intervals\n",
    "#         train_interval = datelist[int_start:int_end]\n",
    "#         test_interval = datelist[int_end:int_end+test_rolling_length]\n",
    "#         if verbose:\n",
    "#             print(\"Traing start date = {} and end date = {}\".format(min(train_interval), max(train_interval)))\n",
    "#             print(\"Testing start date = {} and end date = {}\".format(min(test_interval), max(test_interval)))\n",
    "#         # Training data\n",
    "        \n",
    "#         # train interval for yt would be different\n",
    "#         train_interval_y = datelist[int_start+1:int_end+1]\n",
    "#         test_interval_y = datelist[int_end+1:int_end+test_rolling_length+1]\n",
    "#         Yt = Y.loc[train_interval_y]\n",
    "#         Xt = X.loc[train_interval]\n",
    "#         # Testing data\n",
    "#         Xt_test = X.loc[test_interval]\n",
    "#         # Normalize data\n",
    "#         Xt = scaler.fit_transform(Xt)\n",
    "#         Xt_test = scaler.transform(Xt_test)\n",
    "        \n",
    "#         model.fit(Xt,Yt)\n",
    "#         # Perform prediction\n",
    "#         Yt_pred = model.predict(Xt_test)\n",
    "#         if model_name == \"reg\":\n",
    "#             # Fix prediction format\n",
    "#             Yt_pred = fix_pred_format(Yt_pred)\n",
    "#         df_temp = pd.DataFrame([test_interval_y, Yt_pred]).T\n",
    "#         df_temp.columns = [\"date\",model_name]\n",
    "#         predictions.append(df_temp)\n",
    "#         # Update index\n",
    "#         int_start += test_rolling_length\n",
    "        \n",
    "#     pred_df = pd.concat(predictions)\n",
    "#     return pred_df"
   ]
  },
  {
   "cell_type": "code",
   "execution_count": 379,
   "id": "communist-penguin",
   "metadata": {},
   "outputs": [],
   "source": [
    "## Check the rolling window training scheme\n",
    "\n",
    "### Write a function for rolling model training. Use it for predictions as well\n",
    "def roll_training(Y,X, datelist, model, model_name, train_rolling_length = 60, forecast_ahead = 1, test_rolling_length = 1, verbose=False):\n",
    "    \"\"\"\n",
    "    Y : Target variable\n",
    "    X : Training data\n",
    "    \"\"\"\n",
    "    \n",
    "    predictions = []\n",
    "    int_start  = 0\n",
    "    for int_end in range(train_rolling_length, len(datelist)-forecast_ahead, test_rolling_length):\n",
    "        # Define intervals\n",
    "        train_interval = datelist[int_start:int_end]\n",
    "        test_interval = datelist[int_end:int_end+test_rolling_length]\n",
    "        \n",
    "        # train interval for yt would be different\n",
    "        train_interval_y = datelist[int_start+forecast_ahead:int_end+forecast_ahead]\n",
    "        test_interval_y = datelist[int_end+forecast_ahead:int_end+test_rolling_length+forecast_ahead]\n",
    "        \n",
    "        if verbose:\n",
    "            print(\"Traing start date = {} and end date = {}\".format(min(train_interval), max(train_interval)))\n",
    "            print(\"Testing start date = {} and end date = {}\".format(min(test_interval), max(test_interval)))\n",
    "            print(\"Yt date  = {} and {}\".format(min(train_interval_y), max(train_interval_y)))\n",
    "            print(\"Prediction Yt date = {} and {} \".format(min(test_interval_y), max(test_interval_y)))\n",
    "        Yt = Y.loc[train_interval_y]\n",
    "        Xt = X.loc[train_interval]\n",
    "        # Testing data\n",
    "        Xt_test = X.loc[test_interval]\n",
    "        # Normalize data\n",
    "        Xt = scaler.fit_transform(Xt)\n",
    "        Xt_test = scaler.transform(Xt_test)\n",
    "        \n",
    "        model.fit(Xt,Yt)\n",
    "        # Perform prediction\n",
    "        Yt_pred = model.predict(Xt_test)\n",
    "        if model_name == \"reg\":\n",
    "            # Fix prediction format\n",
    "            Yt_pred = fix_pred_format(Yt_pred)\n",
    "        df_temp = pd.DataFrame([test_interval_y, Yt_pred]).T\n",
    "        df_temp.columns = [\"date\",model_name]\n",
    "        predictions.append(df_temp)\n",
    "        # Update index\n",
    "        int_start += test_rolling_length\n",
    "        \n",
    "    pred_df = pd.concat(predictions)\n",
    "    return pred_df"
   ]
  },
  {
   "cell_type": "code",
   "execution_count": 380,
   "id": "least-shift",
   "metadata": {},
   "outputs": [
    {
     "data": {
      "text/html": [
       "<div>\n",
       "<style scoped>\n",
       "    .dataframe tbody tr th:only-of-type {\n",
       "        vertical-align: middle;\n",
       "    }\n",
       "\n",
       "    .dataframe tbody tr th {\n",
       "        vertical-align: top;\n",
       "    }\n",
       "\n",
       "    .dataframe thead th {\n",
       "        text-align: right;\n",
       "    }\n",
       "</style>\n",
       "<table border=\"1\" class=\"dataframe\">\n",
       "  <thead>\n",
       "    <tr style=\"text-align: right;\">\n",
       "      <th></th>\n",
       "      <th>Index</th>\n",
       "      <th>D12</th>\n",
       "      <th>E12</th>\n",
       "      <th>b/m</th>\n",
       "      <th>tbl</th>\n",
       "      <th>AAA</th>\n",
       "      <th>BAA</th>\n",
       "      <th>lty</th>\n",
       "      <th>ntis</th>\n",
       "      <th>Rfree</th>\n",
       "      <th>...</th>\n",
       "      <th>CRSP_SPvwx</th>\n",
       "      <th>returns</th>\n",
       "      <th>premium</th>\n",
       "      <th>d/p</th>\n",
       "      <th>d/y</th>\n",
       "      <th>e/p</th>\n",
       "      <th>d/e</th>\n",
       "      <th>tms</th>\n",
       "      <th>dfy</th>\n",
       "      <th>dfr</th>\n",
       "    </tr>\n",
       "    <tr>\n",
       "      <th>date</th>\n",
       "      <th></th>\n",
       "      <th></th>\n",
       "      <th></th>\n",
       "      <th></th>\n",
       "      <th></th>\n",
       "      <th></th>\n",
       "      <th></th>\n",
       "      <th></th>\n",
       "      <th></th>\n",
       "      <th></th>\n",
       "      <th></th>\n",
       "      <th></th>\n",
       "      <th></th>\n",
       "      <th></th>\n",
       "      <th></th>\n",
       "      <th></th>\n",
       "      <th></th>\n",
       "      <th></th>\n",
       "      <th></th>\n",
       "      <th></th>\n",
       "      <th></th>\n",
       "    </tr>\n",
       "  </thead>\n",
       "  <tbody>\n",
       "    <tr>\n",
       "      <th>2020-08-01</th>\n",
       "      <td>3500.31</td>\n",
       "      <td>59.128628</td>\n",
       "      <td>98.556667</td>\n",
       "      <td>NaN</td>\n",
       "      <td>0.0010</td>\n",
       "      <td>0.0225</td>\n",
       "      <td>0.0327</td>\n",
       "      <td>0.0065</td>\n",
       "      <td>-0.008504</td>\n",
       "      <td>0.0001</td>\n",
       "      <td>...</td>\n",
       "      <td>0.070308</td>\n",
       "      <td>0.071571</td>\n",
       "      <td>0.071471</td>\n",
       "      <td>-4.080892</td>\n",
       "      <td>-4.013173</td>\n",
       "      <td>-3.569975</td>\n",
       "      <td>-0.510916</td>\n",
       "      <td>0.0055</td>\n",
       "      <td>0.0102</td>\n",
       "      <td>-0.0139</td>\n",
       "    </tr>\n",
       "    <tr>\n",
       "      <th>2020-09-01</th>\n",
       "      <td>3363.00</td>\n",
       "      <td>58.851237</td>\n",
       "      <td>98.220000</td>\n",
       "      <td>NaN</td>\n",
       "      <td>0.0011</td>\n",
       "      <td>0.0231</td>\n",
       "      <td>0.0336</td>\n",
       "      <td>0.0068</td>\n",
       "      <td>-0.005698</td>\n",
       "      <td>0.0001</td>\n",
       "      <td>...</td>\n",
       "      <td>-0.039366</td>\n",
       "      <td>-0.037827</td>\n",
       "      <td>-0.037927</td>\n",
       "      <td>-4.045576</td>\n",
       "      <td>-4.085594</td>\n",
       "      <td>-3.533379</td>\n",
       "      <td>-0.512197</td>\n",
       "      <td>0.0057</td>\n",
       "      <td>0.0105</td>\n",
       "      <td>-0.0039</td>\n",
       "    </tr>\n",
       "    <tr>\n",
       "      <th>2020-10-01</th>\n",
       "      <td>3269.96</td>\n",
       "      <td>58.660440</td>\n",
       "      <td>96.856667</td>\n",
       "      <td>NaN</td>\n",
       "      <td>0.0010</td>\n",
       "      <td>0.0235</td>\n",
       "      <td>0.0344</td>\n",
       "      <td>0.0079</td>\n",
       "      <td>-0.001895</td>\n",
       "      <td>0.0001</td>\n",
       "      <td>...</td>\n",
       "      <td>-0.027507</td>\n",
       "      <td>-0.026212</td>\n",
       "      <td>-0.026312</td>\n",
       "      <td>-4.020767</td>\n",
       "      <td>-4.048823</td>\n",
       "      <td>-3.519301</td>\n",
       "      <td>-0.501467</td>\n",
       "      <td>0.0069</td>\n",
       "      <td>0.0109</td>\n",
       "      <td>0.0048</td>\n",
       "    </tr>\n",
       "    <tr>\n",
       "      <th>2020-11-01</th>\n",
       "      <td>3621.63</td>\n",
       "      <td>58.469643</td>\n",
       "      <td>95.493333</td>\n",
       "      <td>NaN</td>\n",
       "      <td>0.0009</td>\n",
       "      <td>0.0230</td>\n",
       "      <td>0.0330</td>\n",
       "      <td>0.0087</td>\n",
       "      <td>-0.005262</td>\n",
       "      <td>0.0001</td>\n",
       "      <td>...</td>\n",
       "      <td>0.107623</td>\n",
       "      <td>0.109036</td>\n",
       "      <td>0.108936</td>\n",
       "      <td>-4.126172</td>\n",
       "      <td>-4.024025</td>\n",
       "      <td>-3.635623</td>\n",
       "      <td>-0.490549</td>\n",
       "      <td>0.0078</td>\n",
       "      <td>0.0100</td>\n",
       "      <td>0.0416</td>\n",
       "    </tr>\n",
       "    <tr>\n",
       "      <th>2020-12-01</th>\n",
       "      <td>3756.07</td>\n",
       "      <td>58.278846</td>\n",
       "      <td>94.130000</td>\n",
       "      <td>NaN</td>\n",
       "      <td>0.0009</td>\n",
       "      <td>0.0226</td>\n",
       "      <td>0.0316</td>\n",
       "      <td>0.0093</td>\n",
       "      <td>-0.000094</td>\n",
       "      <td>0.0001</td>\n",
       "      <td>...</td>\n",
       "      <td>0.040138</td>\n",
       "      <td>0.038462</td>\n",
       "      <td>0.038362</td>\n",
       "      <td>-4.165889</td>\n",
       "      <td>-4.129440</td>\n",
       "      <td>-3.686452</td>\n",
       "      <td>-0.479438</td>\n",
       "      <td>0.0084</td>\n",
       "      <td>0.0090</td>\n",
       "      <td>0.0115</td>\n",
       "    </tr>\n",
       "  </tbody>\n",
       "</table>\n",
       "<p>5 rows × 26 columns</p>\n",
       "</div>"
      ],
      "text/plain": [
       "              Index        D12        E12  b/m     tbl     AAA     BAA  \\\n",
       "date                                                                     \n",
       "2020-08-01  3500.31  59.128628  98.556667  NaN  0.0010  0.0225  0.0327   \n",
       "2020-09-01  3363.00  58.851237  98.220000  NaN  0.0011  0.0231  0.0336   \n",
       "2020-10-01  3269.96  58.660440  96.856667  NaN  0.0010  0.0235  0.0344   \n",
       "2020-11-01  3621.63  58.469643  95.493333  NaN  0.0009  0.0230  0.0330   \n",
       "2020-12-01  3756.07  58.278846  94.130000  NaN  0.0009  0.0226  0.0316   \n",
       "\n",
       "               lty      ntis   Rfree  ...  CRSP_SPvwx   returns   premium  \\\n",
       "date                                  ...                                   \n",
       "2020-08-01  0.0065 -0.008504  0.0001  ...    0.070308  0.071571  0.071471   \n",
       "2020-09-01  0.0068 -0.005698  0.0001  ...   -0.039366 -0.037827 -0.037927   \n",
       "2020-10-01  0.0079 -0.001895  0.0001  ...   -0.027507 -0.026212 -0.026312   \n",
       "2020-11-01  0.0087 -0.005262  0.0001  ...    0.107623  0.109036  0.108936   \n",
       "2020-12-01  0.0093 -0.000094  0.0001  ...    0.040138  0.038462  0.038362   \n",
       "\n",
       "                 d/p       d/y       e/p       d/e     tms     dfy     dfr  \n",
       "date                                                                        \n",
       "2020-08-01 -4.080892 -4.013173 -3.569975 -0.510916  0.0055  0.0102 -0.0139  \n",
       "2020-09-01 -4.045576 -4.085594 -3.533379 -0.512197  0.0057  0.0105 -0.0039  \n",
       "2020-10-01 -4.020767 -4.048823 -3.519301 -0.501467  0.0069  0.0109  0.0048  \n",
       "2020-11-01 -4.126172 -4.024025 -3.635623 -0.490549  0.0078  0.0100  0.0416  \n",
       "2020-12-01 -4.165889 -4.129440 -3.686452 -0.479438  0.0084  0.0090  0.0115  \n",
       "\n",
       "[5 rows x 26 columns]"
      ]
     },
     "execution_count": 380,
     "metadata": {},
     "output_type": "execute_result"
    }
   ],
   "source": [
    "data.tail()"
   ]
  },
  {
   "cell_type": "code",
   "execution_count": 381,
   "id": "supposed-marshall",
   "metadata": {},
   "outputs": [],
   "source": [
    "data = data.drop([\"b/m\", \"csp\"], axis=1)"
   ]
  },
  {
   "cell_type": "code",
   "execution_count": 382,
   "id": "annoying-parking",
   "metadata": {},
   "outputs": [],
   "source": [
    "data = data.dropna()\n",
    "Y = data[[\"premium\"]]\n",
    "X = data[used_features]\n",
    "datelist = data.index.tolist()\n",
    "from sklearn.linear_model import LinearRegression\n",
    "\n",
    "reg = LinearRegression()\n",
    "\n",
    "\n",
    "preds = roll_training(Y,X,datelist, reg,\"model\")"
   ]
  },
  {
   "cell_type": "markdown",
   "id": "announced-allergy",
   "metadata": {},
   "source": [
    "## Step 2: Write the validation scheme for such models"
   ]
  },
  {
   "cell_type": "code",
   "execution_count": 383,
   "id": "clear-journey",
   "metadata": {},
   "outputs": [],
   "source": [
    "train_val_test = [0.6, 0.2, 0.2]\n",
    "\n",
    "train_datelist = datelist[0:int(len(datelist)*train_val_test[0])]\n",
    "val_datelist = datelist[int(len(datelist)*train_val_test[0]):int(len(datelist)*train_val_test[0]) \n",
    "                        + int(len(datelist)*train_val_test[1])]\n",
    "test_datelist = datelist[int(len(datelist)*train_val_test[0]) \n",
    "                        + int(len(datelist)*train_val_test[1]) : ]\n",
    "\n",
    "training_data_x = data[data.index.isin(train_datelist)][used_features]\n",
    "training_data_y = data[data.index.isin(train_datelist)][target]\n",
    "val_data_x = data[data.index.isin(val_datelist)][used_features]\n",
    "val_data_y = data[data.index.isin(val_datelist)][target]\n",
    "test_data_x = data[data.index.isin(test_datelist)][used_features]\n",
    "test_data_y = data[data.index.isin(test_datelist)][target]"
   ]
  },
  {
   "cell_type": "code",
   "execution_count": 384,
   "id": "enclosed-ranch",
   "metadata": {},
   "outputs": [],
   "source": [
    "full_data_y = pd.concat([training_data_y, val_data_y, test_data_y])\n",
    "full_data_x = pd.concat([training_data_x, val_data_x, test_data_x])"
   ]
  },
  {
   "cell_type": "markdown",
   "id": "british-vegetable",
   "metadata": {},
   "source": [
    "## Step 3: Write the optimization scheme for such models\n",
    "\n",
    "- Get the top 3 models for every model specification\n",
    "- Write Grid search model"
   ]
  },
  {
   "cell_type": "code",
   "execution_count": 385,
   "id": "bearing-strand",
   "metadata": {},
   "outputs": [],
   "source": [
    "np.random.seed(10)"
   ]
  },
  {
   "cell_type": "markdown",
   "id": "attended-documentary",
   "metadata": {},
   "source": [
    "## For linear models, plot convergence "
   ]
  },
  {
   "cell_type": "code",
   "execution_count": 386,
   "id": "annual-wildlife",
   "metadata": {},
   "outputs": [],
   "source": [
    "### Setup hyper-parameter space for regression\n",
    "\n",
    "lasso_regression_hp_dict = {\n",
    "       \"alpha\" : np.linspace(0.001,0.1,100)\n",
    "}\n",
    "\n",
    "ridge_regression_hp_dict = {\n",
    "       \"alpha\" : np.linspace(0.001,10,100)\n",
    "}"
   ]
  },
  {
   "cell_type": "code",
   "execution_count": 387,
   "id": "dramatic-farming",
   "metadata": {},
   "outputs": [],
   "source": [
    "from sklearn.linear_model import LinearRegression, Lasso, Ridge, ElasticNet\n",
    "from sklearn.metrics import mean_squared_error"
   ]
  },
  {
   "cell_type": "code",
   "execution_count": 388,
   "id": "detailed-scratch",
   "metadata": {},
   "outputs": [],
   "source": [
    "lasso_mse = []\n",
    "lasso_prediction_dictionary = {}\n",
    "for alpha in lasso_regression_hp_dict[\"alpha\"]:\n",
    "    lasso = Lasso(alpha = alpha)\n",
    "    model_name = \"lasso_alpha={}\".format(alpha)\n",
    "    lasso_preds = roll_training(training_data_y,training_data_x, train_datelist, lasso,model_name)\n",
    "    lasso_prediction_dictionary[alpha] = lasso_preds\n",
    "    ### Compute MSE\n",
    "    ## Extract common datelist\n",
    "    common_dates = lasso_preds[\"date\"].tolist()\n",
    "    lasso_mse.append(mean_squared_error(training_data_y[training_data_y.index.isin(common_dates)],\n",
    "                                        lasso_preds[model_name]))"
   ]
  },
  {
   "cell_type": "code",
   "execution_count": 389,
   "id": "agreed-third",
   "metadata": {},
   "outputs": [
    {
     "data": {
      "text/plain": [
       "Text(0.5, 0, 'alpha')"
      ]
     },
     "execution_count": 389,
     "metadata": {},
     "output_type": "execute_result"
    },
    {
     "data": {
      "image/png": "[encoded data removed]",
      "text/plain": [
       "<Figure size 432x288 with 1 Axes>"
      ]
     },
     "metadata": {
      "needs_background": "light"
     },
     "output_type": "display_data"
    }
   ],
   "source": [
    "plt.figure()\n",
    "plt.plot(lasso_regression_hp_dict[\"alpha\"], lasso_mse)\n",
    "plt.title(\"MSE vs alpha\")\n",
    "plt.ylabel(\"MSE\")\n",
    "plt.xlabel(\"alpha\")"
   ]
  },
  {
   "cell_type": "code",
   "execution_count": 390,
   "id": "disturbed-opinion",
   "metadata": {},
   "outputs": [],
   "source": [
    "ridge_mse = []\n",
    "ridge_prediction_dictionary = {}\n",
    "for alpha in ridge_regression_hp_dict[\"alpha\"]:\n",
    "    ridge = Ridge(alpha = alpha)\n",
    "    model_name = \"ridge_alpha={}\".format(alpha)\n",
    "    ridge_preds = roll_training(training_data_y,training_data_x, train_datelist, ridge,model_name)\n",
    "    ridge_prediction_dictionary[alpha] = ridge_preds\n",
    "    ### Compute MSE\n",
    "    ## Extract common datelist\n",
    "    common_dates = ridge_preds[\"date\"].tolist()\n",
    "    ridge_mse.append(mean_squared_error(training_data_y[training_data_y.index.isin(common_dates)],\n",
    "                                        ridge_preds[model_name]))"
   ]
  },
  {
   "cell_type": "code",
   "execution_count": 391,
   "id": "unauthorized-saint",
   "metadata": {},
   "outputs": [
    {
     "data": {
      "text/plain": [
       "Text(0.5, 0, 'alpha')"
      ]
     },
     "execution_count": 391,
     "metadata": {},
     "output_type": "execute_result"
    },
    {
     "data": {
      "image/png": "[encoded data removed]",
      "text/plain": [
       "<Figure size 432x288 with 1 Axes>"
      ]
     },
     "metadata": {
      "needs_background": "light"
     },
     "output_type": "display_data"
    }
   ],
   "source": [
    "plt.figure()\n",
    "plt.plot(ridge_regression_hp_dict[\"alpha\"], ridge_mse)\n",
    "plt.title(\"MSE vs alpha\")\n",
    "plt.ylabel(\"MSE\")\n",
    "plt.xlabel(\"alpha\")"
   ]
  },
  {
   "cell_type": "code",
   "execution_count": 392,
   "id": "mounted-chester",
   "metadata": {},
   "outputs": [
    {
     "name": "stdout",
     "output_type": "stream",
     "text": [
      "0.0024513043563529732\n"
     ]
    }
   ],
   "source": [
    "## Checking plain regression\n",
    "reg = LinearRegression()\n",
    "linear_preds = roll_training(training_data_y,training_data_x, train_datelist, reg,\"plain_regression\")\n",
    "print(mean_squared_error(training_data_y[training_data_y.index.isin(common_dates)],\n",
    "                                        linear_preds['plain_regression']))"
   ]
  },
  {
   "cell_type": "code",
   "execution_count": null,
   "id": "instrumental-thesis",
   "metadata": {},
   "outputs": [],
   "source": [
    "### Check results on overall data as well\n",
    "lasso_mse = []\n",
    "lasso_prediction_dictionary = {}\n",
    "for alpha in lasso_regression_hp_dict[\"alpha\"]:\n",
    "    lasso = Lasso(alpha = alpha)\n",
    "    model_name = \"lasso_alpha={}\".format(alpha)\n",
    "    lasso_preds = roll_training(full_data_y,full_data_x, datelist, lasso,model_name)\n",
    "    lasso_prediction_dictionary[alpha] = lasso_preds\n",
    "    ### Compute MSE\n",
    "    ## Extract common datelist\n",
    "    common_dates = lasso_preds[\"date\"].tolist()\n",
    "    lasso_mse.append(mean_squared_error(full_data_y[full_data_y.index.isin(common_dates)],\n",
    "                                        lasso_preds[model_name]))"
   ]
  },
  {
   "cell_type": "code",
   "execution_count": null,
   "id": "complete-ideal",
   "metadata": {},
   "outputs": [],
   "source": [
    "plt.figure()\n",
    "plt.plot(lasso_regression_hp_dict[\"alpha\"], lasso_mse)\n",
    "plt.title(\"MSE vs alpha\")\n",
    "plt.ylabel(\"MSE\")\n",
    "plt.xlabel(\"alpha\")"
   ]
  },
  {
   "cell_type": "code",
   "execution_count": null,
   "id": "abroad-cancer",
   "metadata": {},
   "outputs": [],
   "source": [
    "ridge_mse = []\n",
    "ridge_prediction_dictionary = {}\n",
    "for alpha in ridge_regression_hp_dict[\"alpha\"]:\n",
    "    ridge = Ridge(alpha = alpha)\n",
    "    model_name = \"ridge_alpha={}\".format(alpha)\n",
    "    ridge_preds = roll_training(full_data_y,full_data_x, datelist, ridge,model_name)\n",
    "    ridge_prediction_dictionary[alpha] = ridge_preds\n",
    "    ### Compute MSE\n",
    "    ## Extract common datelist\n",
    "    common_dates = ridge_preds[\"date\"].tolist()\n",
    "    ridge_mse.append(mean_squared_error(full_data_y[full_data_y.index.isin(common_dates)],\n",
    "                                        ridge_preds[model_name]))"
   ]
  },
  {
   "cell_type": "code",
   "execution_count": null,
   "id": "experimental-findings",
   "metadata": {},
   "outputs": [],
   "source": [
    "plt.figure()\n",
    "plt.plot(ridge_regression_hp_dict[\"alpha\"], ridge_mse)\n",
    "plt.title(\"MSE vs alpha\")\n",
    "plt.ylabel(\"MSE\")\n",
    "plt.xlabel(\"alpha\")"
   ]
  },
  {
   "cell_type": "code",
   "execution_count": null,
   "id": "employed-weight",
   "metadata": {},
   "outputs": [],
   "source": [
    "## Checking plain regression\n",
    "reg = LinearRegression()\n",
    "linear_preds = roll_training(full_data_y,full_data_x, datelist, reg,\"plain_regression\")\n",
    "print(mean_squared_error(full_data_y[full_data_y.index.isin(common_dates)],\n",
    "                                        linear_preds['plain_regression']))"
   ]
  },
  {
   "cell_type": "markdown",
   "id": "wanted-fence",
   "metadata": {},
   "source": [
    "## Code for GRID search scheme"
   ]
  },
  {
   "cell_type": "code",
   "execution_count": null,
   "id": "assigned-measurement",
   "metadata": {},
   "outputs": [],
   "source": [
    "random_forest_hp_dict = {\n",
    "    \"n_estimators\" : [50,100,150,200],\n",
    "    \"max_depth\":[2,3,5,7,10],\n",
    "    \"min_samples_leaf\":[1,3,5,10],\n",
    "}\n",
    "\n",
    "random_forest_hp_dict_mini = {\n",
    "    \"n_estimators\" : [25,50],\n",
    "    \"max_depth\":[2,3],\n",
    "    \"min_samples_leaf\":[1,3]\n",
    "}\n",
    "\n",
    "elastic_net_hp_dict = {\n",
    "    \"alpha\" : [0.1, 0.2, 0.5, 0.7,1, 3, 10],\n",
    "    \"l1_ratio\" : [0.1,0.3, 0.7,1]\n",
    "}\n",
    "\n",
    "xgboost_hp_dict = {\n",
    "    \"n_estimators\" : [50,100,150,200],\n",
    "    \"max_depth\":[2,3,5,7,10],\n",
    "    \"min_samples_leaf\":[1,3,5,10],\n",
    "}"
   ]
  },
  {
   "cell_type": "code",
   "execution_count": null,
   "id": "automotive-length",
   "metadata": {},
   "outputs": [],
   "source": [
    "import itertools"
   ]
  },
  {
   "cell_type": "code",
   "execution_count": null,
   "id": "stuffed-james",
   "metadata": {},
   "outputs": [],
   "source": [
    "def generate_hyperparameter_grid(hp_space):\n",
    "\n",
    "    keys, values = zip(*hp_space.items())\n",
    "    experiments = [dict(zip(keys, v)) for v in itertools.product(*values)]\n",
    "    \n",
    "    return experiments"
   ]
  },
  {
   "cell_type": "markdown",
   "id": "invisible-front",
   "metadata": {},
   "source": [
    "### Return top k predictions for a model class"
   ]
  },
  {
   "cell_type": "code",
   "execution_count": null,
   "id": "sixth-faith",
   "metadata": {},
   "outputs": [],
   "source": [
    "mega_model_name = {}"
   ]
  },
  {
   "cell_type": "code",
   "execution_count": null,
   "id": "small-africa",
   "metadata": {},
   "outputs": [],
   "source": [
    "def model_name_mappers(hp_space, base_model):\n",
    "    model_name_mapper1 = {}\n",
    "    model_name_mapper2 = {}\n",
    "    for i in range(len(hp_space)):\n",
    "        model_name_mapper1[base_model + \"_\" + str(i)] = str(hp_space[i])\n",
    "        model_name_mapper2[str(hp_space[i])] = base_model + \"_\" + str(i)\n",
    "    return model_name_mapper1, model_name_mapper2"
   ]
  },
  {
   "cell_type": "code",
   "execution_count": null,
   "id": "competent-praise",
   "metadata": {},
   "outputs": [],
   "source": [
    "def get_grid_model_results(base_mod, hp_space, model_name, Y, X, datelist):\n",
    "    model_names_mapping1, model_names_mapping2 = model_name_mappers(hp_space, model_name)\n",
    "    model_prediction_dictionary = {}\n",
    "    prog_i = 0\n",
    "    total_len = len(hp_space)\n",
    "    for model_config in hp_space:\n",
    "        if prog_i%10 == 0:\n",
    "            print(\"% complete  = {}%\".format(prog_i*100/total_len))\n",
    "        model = base_mod(**model_config)\n",
    "        pred_model_name = model_names_mapping2[str(model_config)]\n",
    "        model_prediction = roll_training(Y,X, datelist, model , pred_model_name)\n",
    "        model_prediction_dictionary[pred_model_name] = model_prediction\n",
    "        prog_i+=1\n",
    "        \n",
    "    return (model_names_mapping1, model_names_mapping2, model_prediction_dictionary, model)"
   ]
  },
  {
   "cell_type": "code",
   "execution_count": null,
   "id": "considerable-local",
   "metadata": {},
   "outputs": [],
   "source": [
    "from sklearn.ensemble import RandomForestRegressor, GradientBoostingRegressor"
   ]
  },
  {
   "cell_type": "code",
   "execution_count": null,
   "id": "offshore-importance",
   "metadata": {},
   "outputs": [],
   "source": [
    "a,b,c,d = get_grid_model_results(RandomForestRegressor, generate_hyperparameter_grid(random_forest_hp_dict_mini),\n",
    "                              \"RF\", training_data_y, training_data_x, train_datelist)"
   ]
  },
  {
   "cell_type": "code",
   "execution_count": null,
   "id": "gentle-breathing",
   "metadata": {},
   "outputs": [],
   "source": [
    "def predict_on_test_set(model, test_datelist, X):\n",
    "    pred_dict = {}\n",
    "    "
   ]
  },
  {
   "cell_type": "code",
   "execution_count": null,
   "id": "rough-hurricane",
   "metadata": {},
   "outputs": [],
   "source": [
    "def model_performance_metrics(metric, pred_dict, actual_y):\n",
    "    score_dict = {}\n",
    "    for key, values in pred_dict.items():\n",
    "        common_datelist = values[\"date\"].tolist()\n",
    "        score_dict[key] = metric(actual_y[actual_y.index.isin(common_datelist)], values[values.columns[-1]])\n",
    "    return score_dict"
   ]
  },
  {
   "cell_type": "code",
   "execution_count": null,
   "id": "public-yacht",
   "metadata": {},
   "outputs": [],
   "source": [
    "from sklearn.metrics import r2_score"
   ]
  },
  {
   "cell_type": "code",
   "execution_count": null,
   "id": "offensive-recipe",
   "metadata": {},
   "outputs": [],
   "source": [
    "model_performance_metrics(r2_score, c, training_data_y)"
   ]
  },
  {
   "cell_type": "code",
   "execution_count": null,
   "id": "eastern-building",
   "metadata": {},
   "outputs": [],
   "source": [
    "import heapq"
   ]
  },
  {
   "cell_type": "code",
   "execution_count": null,
   "id": "exclusive-paintball",
   "metadata": {},
   "outputs": [],
   "source": [
    "def top_k_predictions(k, performance_metrics):\n",
    "\n",
    "    k_keys_sorted = heapq.nsmallest(k, performance_metrics, key=performance_metrics.get)\n",
    "    return k_keys_sorted"
   ]
  },
  {
   "cell_type": "code",
   "execution_count": null,
   "id": "liquid-drunk",
   "metadata": {},
   "outputs": [],
   "source": [
    "rf_names_1, rf_names_2, rf_model_predictions = get_grid_model_results(RandomForestRegressor, generate_hyperparameter_grid(random_forest_hp_dict),\n",
    "                              \"RF\", full_data_y, full_data_x, datelist)"
   ]
  },
  {
   "cell_type": "code",
   "execution_count": null,
   "id": "antique-westminster",
   "metadata": {
    "scrolled": true
   },
   "outputs": [],
   "source": [
    "rf_model_performance = model_performance_metrics(mean_squared_error, rf_model_predictions, full_data_y)"
   ]
  },
  {
   "cell_type": "code",
   "execution_count": null,
   "id": "unlikely-willow",
   "metadata": {},
   "outputs": [],
   "source": [
    "top_k_predictions(3,rf_model_performance)"
   ]
  },
  {
   "cell_type": "code",
   "execution_count": null,
   "id": "focal-engineering",
   "metadata": {},
   "outputs": [],
   "source": [
    "rf_names_1[\"RF_4\"]"
   ]
  },
  {
   "cell_type": "code",
   "execution_count": null,
   "id": "empty-ferry",
   "metadata": {},
   "outputs": [],
   "source": [
    "xg_names_1, xg_names_2, xg_model_predictions = get_grid_model_results(GradientBoostingRegressor, generate_hyperparameter_grid(xgboost_hp_dict),\n",
    "                              \"XG\", full_data_y, full_data_x, datelist)"
   ]
  },
  {
   "cell_type": "code",
   "execution_count": null,
   "id": "likely-jonathan",
   "metadata": {},
   "outputs": [],
   "source": [
    "xg_model_performance = model_performance_metrics(mean_squared_error, xg_model_predictions, full_data_y)"
   ]
  },
  {
   "cell_type": "code",
   "execution_count": null,
   "id": "announced-accounting",
   "metadata": {},
   "outputs": [],
   "source": [
    "top_k_predictions(3,xg_model_performance)"
   ]
  },
  {
   "cell_type": "code",
   "execution_count": null,
   "id": "collect-colonial",
   "metadata": {},
   "outputs": [],
   "source": [
    "en_names_1, en_names_2, en_model_predictions = get_grid_model_results(ElasticNet, generate_hyperparameter_grid(elastic_net_hp_dict),\n",
    "                              \"EN\", full_data_y, full_data_x, datelist)"
   ]
  },
  {
   "cell_type": "code",
   "execution_count": null,
   "id": "reserved-perfume",
   "metadata": {},
   "outputs": [],
   "source": [
    "en_model_performance = model_performance_metrics(mean_squared_error, en_model_predictions, full_data_y)"
   ]
  },
  {
   "cell_type": "code",
   "execution_count": null,
   "id": "narrow-surgery",
   "metadata": {},
   "outputs": [],
   "source": [
    "top_k_predictions(3,en_model_performance)"
   ]
  },
  {
   "cell_type": "code",
   "execution_count": null,
   "id": "advance-egyptian",
   "metadata": {},
   "outputs": [],
   "source": [
    "lasso_names_1, lasso_names_2, lasso_model_predictions = get_grid_model_results(Lasso, generate_hyperparameter_grid(lasso_regression_hp_dict),\n",
    "                              \"lasso\", full_data_y, full_data_x, datelist)"
   ]
  },
  {
   "cell_type": "code",
   "execution_count": null,
   "id": "charitable-productivity",
   "metadata": {},
   "outputs": [],
   "source": [
    "lasso_model_performance = model_performance_metrics(mean_squared_error, lasso_model_predictions, full_data_y)\n",
    "top_k_predictions(3,lasso_model_performance)"
   ]
  },
  {
   "cell_type": "code",
   "execution_count": null,
   "id": "graduate-slave",
   "metadata": {},
   "outputs": [],
   "source": [
    "ridge_names_1, ridge_names_2, ridge_model_predictions = get_grid_model_results(Ridge, generate_hyperparameter_grid(ridge_regression_hp_dict),\n",
    "                              \"ridge\", full_data_y, full_data_x, datelist)"
   ]
  },
  {
   "cell_type": "code",
   "execution_count": null,
   "id": "afraid-respect",
   "metadata": {},
   "outputs": [],
   "source": [
    "ridge_model_performance = model_performance_metrics(mean_squared_error, ridge_model_predictions, full_data_y)\n",
    "top_k_predictions(3, ridge_model_performance)"
   ]
  },
  {
   "cell_type": "code",
   "execution_count": null,
   "id": "rubber-syntax",
   "metadata": {},
   "outputs": [],
   "source": [
    "best_model_output = []\n",
    "\n",
    "best_rf_pred = top_k_predictions(3,rf_model_performance)\n",
    "best_xg_pred = top_k_predictions(3,xg_model_performance)\n",
    "best_en_pred = top_k_predictions(3,en_model_performance)\n",
    "best_lasso_pred = top_k_predictions(3,lasso_model_performance)\n",
    "best_ridge_pred = top_k_predictions(3,ridge_model_performance)"
   ]
  },
  {
   "cell_type": "code",
   "execution_count": null,
   "id": "stretch-breakdown",
   "metadata": {},
   "outputs": [],
   "source": [
    "def return_dict_keys_df(dictionary, keys):\n",
    "    inil = []\n",
    "    for key in keys:\n",
    "        temp_df = dictionary[key]\n",
    "        inil.append(temp_df[temp_df.columns[-1]])\n",
    "    return pd.concat(inil, axis=1)"
   ]
  },
  {
   "cell_type": "code",
   "execution_count": null,
   "id": "sunset-monster",
   "metadata": {},
   "outputs": [],
   "source": [
    "best_rf_model = return_dict_keys_df(rf_model_predictions, best_rf_pred)\n",
    "best_xg_model = return_dict_keys_df(xg_model_predictions, best_xg_pred)\n",
    "best_en_model = return_dict_keys_df(en_model_predictions, best_en_pred)\n",
    "best_lasso_model = return_dict_keys_df(lasso_model_predictions, best_lasso_pred)\n",
    "best_ridge_model = return_dict_keys_df(ridge_model_predictions, best_ridge_pred)"
   ]
  },
  {
   "cell_type": "code",
   "execution_count": null,
   "id": "greatest-sustainability",
   "metadata": {},
   "outputs": [],
   "source": [
    "for cols in best_ridge_model.columns:\n",
    "    best_ridge_model[cols] = best_ridge_model[cols].apply(lambda x:x[0])"
   ]
  },
  {
   "cell_type": "code",
   "execution_count": null,
   "id": "nuclear-analyst",
   "metadata": {},
   "outputs": [],
   "source": [
    "mega_df = pd.concat([best_rf_model,best_xg_model,best_en_model,best_lasso_model,best_ridge_model ], axis=1)"
   ]
  },
  {
   "cell_type": "code",
   "execution_count": null,
   "id": "developmental-audience",
   "metadata": {},
   "outputs": [],
   "source": [
    "common_dates = en_model_predictions[\"EN_0\"][\"date\"].tolist()"
   ]
  },
  {
   "cell_type": "code",
   "execution_count": null,
   "id": "continued-folder",
   "metadata": {},
   "outputs": [],
   "source": [
    "mega_df[\"date\"] = common_dates"
   ]
  },
  {
   "cell_type": "code",
   "execution_count": null,
   "id": "transparent-transaction",
   "metadata": {},
   "outputs": [],
   "source": [
    "mega_df.set_index(\"date\",inplace=True)"
   ]
  },
  {
   "cell_type": "code",
   "execution_count": null,
   "id": "baking-berry",
   "metadata": {},
   "outputs": [],
   "source": [
    "mega_df.plot(figsize=(10,6))"
   ]
  },
  {
   "cell_type": "code",
   "execution_count": null,
   "id": "immune-diagram",
   "metadata": {},
   "outputs": [],
   "source": [
    "## Break into grps of 5 and plot\n",
    "mega_df[mega_df.columns.tolist()[0:5]].plot(figsize=(10,6))"
   ]
  },
  {
   "cell_type": "code",
   "execution_count": null,
   "id": "agricultural-afternoon",
   "metadata": {},
   "outputs": [],
   "source": [
    "mega_df[mega_df.columns.tolist()[5:10]].plot(figsize=(10,6))"
   ]
  },
  {
   "cell_type": "code",
   "execution_count": null,
   "id": "seven-equality",
   "metadata": {},
   "outputs": [],
   "source": [
    "mega_df[mega_df.columns.tolist()[10:]].plot(figsize=(10,6))"
   ]
  },
  {
   "cell_type": "code",
   "execution_count": null,
   "id": "fluid-southwest",
   "metadata": {},
   "outputs": [],
   "source": [
    "## Save Mega df\n",
    "mega_df.to_csv(\"data/mega_pred.csv\",index=False)"
   ]
  },
  {
   "cell_type": "markdown",
   "id": "figured-border",
   "metadata": {},
   "source": [
    "### Step 4: Check trading strategy"
   ]
  },
  {
   "cell_type": "code",
   "execution_count": null,
   "id": "strategic-stage",
   "metadata": {},
   "outputs": [],
   "source": [
    "## Create trading strategy\n",
    "def trading_strategy(yactual, ypred):\n",
    "    # strat 1: Long on market\n",
    "    strat1_ret = yactual\n",
    "    # strat 2: Long if pred positive, short if pred negative\n",
    "    bool_temp = [1 if x > 0 else -1 for x in ypred.values]\n",
    "    strat2_ret = yactual*bool_temp\n",
    "    # strat 3: 2x long if pred positive, 0 if pred negative\n",
    "    bool_temp = [2 if x > 0 else 0 for x in ypred.values]\n",
    "    strat3_ret = yactual*bool_temp\n",
    "    # strat 4: 1x long if pred positive, 0 if pred negative\n",
    "    bool_temp = [1 if x > 0 else 0 for x in ypred.values]\n",
    "    strat4_ret = yactual*bool_temp\n",
    "    \n",
    "    ret_df = pd.DataFrame([strat1_ret, strat2_ret, strat3_ret, strat4_ret]).T\n",
    "    ret_df.columns = [\"Strategy 1\", \"Strategy 2\", \"Strategy 3\", \"Strategy 4\"]\n",
    "    \n",
    "    # Cumulative return\n",
    "    cum_ret = ret_df + 1\n",
    "    cum_ret = cum_ret.cumprod()\n",
    "    return ret_df, cum_ret"
   ]
  },
  {
   "cell_type": "code",
   "execution_count": null,
   "id": "overall-advisory",
   "metadata": {},
   "outputs": [],
   "source": [
    "full_data_y[full_data_y.index.isin(common_dates)]"
   ]
  },
  {
   "cell_type": "code",
   "execution_count": null,
   "id": "light-amino",
   "metadata": {
    "scrolled": true
   },
   "outputs": [],
   "source": [
    "## Check trading strategy for every model\n",
    "for col in mega_df.columns:\n",
    "    ypred = mega_df[col]\n",
    "    print(col)\n",
    "    ret_df, cum_ret_df = trading_strategy(full_data_y[full_data_y.index.isin(common_dates)][\"premium\"], ypred)\n",
    "    print(\"Plotting strategies for model = {}\".format(col))\n",
    "    ret_df.plot()\n",
    "    cum_ret_df.plot()"
   ]
  },
  {
   "cell_type": "markdown",
   "id": "oriental-masters",
   "metadata": {},
   "source": [
    "## Step 5: Train simple OLS, Mean, Median on predictions"
   ]
  },
  {
   "cell_type": "code",
   "execution_count": null,
   "id": "powerful-active",
   "metadata": {},
   "outputs": [],
   "source": [
    "base_models = mega_df.columns.tolist()\n",
    "mega_df[\"mean_pred\"] = mega_df[base_models].mean(axis=1)\n",
    "mega_df[\"median_pred\"] = mega_df[base_models].median(axis=1)"
   ]
  },
  {
   "cell_type": "code",
   "execution_count": null,
   "id": "ongoing-record",
   "metadata": {},
   "outputs": [],
   "source": [
    "yactual = full_data_y[full_data_y.index.isin(common_dates)][\"premium\"]"
   ]
  },
  {
   "cell_type": "code",
   "execution_count": null,
   "id": "important-candle",
   "metadata": {},
   "outputs": [],
   "source": [
    "reg = LinearRegression()\n",
    "reg.fit(mega_df[base_models], yactual)"
   ]
  },
  {
   "cell_type": "code",
   "execution_count": null,
   "id": "returning-dragon",
   "metadata": {},
   "outputs": [],
   "source": [
    "mega_df[\"ensemble_ols\"] = reg.predict(mega_df[base_models])"
   ]
  },
  {
   "cell_type": "code",
   "execution_count": null,
   "id": "stainless-peninsula",
   "metadata": {},
   "outputs": [],
   "source": [
    "mega_df.plot(figsize=(10,6))"
   ]
  },
  {
   "cell_type": "markdown",
   "id": "cognitive-gross",
   "metadata": {},
   "source": [
    "## Plot strategy for every model\n"
   ]
  },
  {
   "cell_type": "markdown",
   "id": "ordered-margin",
   "metadata": {},
   "source": [
    "### Strategy 1"
   ]
  },
  {
   "cell_type": "code",
   "execution_count": null,
   "id": "signed-deputy",
   "metadata": {},
   "outputs": [],
   "source": [
    "aa = (mega_df + 1).cumprod()"
   ]
  },
  {
   "cell_type": "code",
   "execution_count": null,
   "id": "married-prisoner",
   "metadata": {},
   "outputs": [],
   "source": [
    "# plt.figure()\n",
    "# aa[\"lasso_2\"].plot()"
   ]
  },
  {
   "cell_type": "markdown",
   "id": "moving-wallace",
   "metadata": {},
   "source": [
    "### Check this !"
   ]
  },
  {
   "cell_type": "code",
   "execution_count": null,
   "id": "thick-greek",
   "metadata": {},
   "outputs": [],
   "source": [
    "(mega_df + 1).cumprod().plot(legend=True, figsize=(10,6))\n",
    "plt.title(\"Strategy 1\")"
   ]
  },
  {
   "cell_type": "code",
   "execution_count": null,
   "id": "dietary-tucson",
   "metadata": {},
   "outputs": [],
   "source": [
    "base_models"
   ]
  },
  {
   "cell_type": "code",
   "execution_count": null,
   "id": "significant-harvey",
   "metadata": {},
   "outputs": [],
   "source": [
    "len(base_models)"
   ]
  },
  {
   "cell_type": "code",
   "execution_count": null,
   "id": "wooden-activity",
   "metadata": {},
   "outputs": [],
   "source": [
    "mega_df.columns"
   ]
  },
  {
   "cell_type": "code",
   "execution_count": null,
   "id": "wireless-resort",
   "metadata": {},
   "outputs": [],
   "source": [
    "temp_list = []\n",
    "for col in mega_df.columns:\n",
    "    bool_temp = [1 if x > 0 else -1 for x in mega_df[col].values]\n",
    "    strat2_ret = yactual*bool_temp\n",
    "    temp_list.append(strat2_ret)\n",
    "strat2_df = pd.concat(temp_list,axis=1)\n",
    "strat2_df.columns = mega_df.columns"
   ]
  },
  {
   "cell_type": "code",
   "execution_count": null,
   "id": "blank-religion",
   "metadata": {},
   "outputs": [],
   "source": [
    "(strat2_df + 1).cumprod().plot(legend=True, figsize=(10,6))\n",
    "plt.title(\"Strategy 2\")"
   ]
  },
  {
   "cell_type": "code",
   "execution_count": null,
   "id": "protected-livestock",
   "metadata": {},
   "outputs": [],
   "source": [
    "x = (strat2_df + 1).cumprod()\n",
    "x[x.index < datetime(1980,1,1).date()].plot(legend=True, figsize=(10,6))\n",
    "plt.title(\"Strategy 2\")"
   ]
  },
  {
   "cell_type": "code",
   "execution_count": null,
   "id": "sapphire-melissa",
   "metadata": {},
   "outputs": [],
   "source": [
    "temp_list = []\n",
    "for col in mega_df.columns:\n",
    "    bool_temp = [2 if x > 0 else 0 for x in mega_df[col].values]\n",
    "    strat3_ret = yactual*bool_temp\n",
    "    temp_list.append(strat3_ret)\n",
    "strat3_df = pd.concat(temp_list,axis=1)\n",
    "strat3_df.columns = mega_df.columns"
   ]
  },
  {
   "cell_type": "code",
   "execution_count": null,
   "id": "going-intro",
   "metadata": {},
   "outputs": [],
   "source": [
    "x = (strat3_df + 1).cumprod().plot(legend=True, figsize=(10,6))\n",
    "plt.title(\"Strategy 3\")"
   ]
  },
  {
   "cell_type": "code",
   "execution_count": null,
   "id": "close-amazon",
   "metadata": {},
   "outputs": [],
   "source": [
    "x = (strat3_df + 1).cumprod()\n",
    "x[x.index < datetime(1980,1,1).date()].plot(legend=True, figsize=(10,6))\n",
    "plt.title(\"Strategy 3\")"
   ]
  },
  {
   "cell_type": "code",
   "execution_count": null,
   "id": "victorian-essence",
   "metadata": {},
   "outputs": [],
   "source": [
    "temp_list = []\n",
    "for col in mega_df.columns:\n",
    "    bool_temp = [1 if x > 0 else 0 for x in mega_df[col].values]\n",
    "    strat4_ret = yactual*bool_temp\n",
    "    temp_list.append(strat4_ret)\n",
    "strat4_df = pd.concat(temp_list,axis=1)\n",
    "strat4_df.columns = mega_df.columns"
   ]
  },
  {
   "cell_type": "code",
   "execution_count": null,
   "id": "short-jacksonville",
   "metadata": {},
   "outputs": [],
   "source": [
    "x = (strat4_df + 1).cumprod().plot(legend=True, figsize=(10,6))\n",
    "plt.title(\"Strategy 4\")"
   ]
  },
  {
   "cell_type": "code",
   "execution_count": null,
   "id": "fossil-complexity",
   "metadata": {},
   "outputs": [],
   "source": [
    "x = (strat4_df + 1).cumprod()\n",
    "x[x.index < datetime(1980,1,1).date()].plot(legend=True, figsize=(10,6))\n",
    "plt.title(\"Strategy 4\")"
   ]
  },
  {
   "cell_type": "code",
   "execution_count": null,
   "id": "legislative-montgomery",
   "metadata": {},
   "outputs": [],
   "source": [
    "mega_df[\"dates\"] = common_dates"
   ]
  },
  {
   "cell_type": "code",
   "execution_count": null,
   "id": "nasty-jacksonville",
   "metadata": {},
   "outputs": [],
   "source": [
    "mega_df[\"actuals\"] = yactual.values"
   ]
  },
  {
   "cell_type": "code",
   "execution_count": null,
   "id": "random-devon",
   "metadata": {},
   "outputs": [],
   "source": [
    "mega_df.to_csv(\"data/mega_pred.csv\",index=False)"
   ]
  },
  {
   "cell_type": "code",
   "execution_count": null,
   "id": "understood-persian",
   "metadata": {},
   "outputs": [],
   "source": []
  }
 ],
 "metadata": {
  "kernelspec": {
   "display_name": "Python 3",
   "language": "python",
   "name": "python3"
  },
  "language_info": {
   "codemirror_mode": {
    "name": "ipython",
    "version": 3
   },
   "file_extension": ".py",
   "mimetype": "text/x-python",
   "name": "python",
   "nbconvert_exporter": "python",
   "pygments_lexer": "ipython3",
   "version": "3.8.2"
  }
 },
 "nbformat": 4,
 "nbformat_minor": 5
}
