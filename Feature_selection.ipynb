{
 "cells": [
  {
   "cell_type": "code",
   "execution_count": 1,
   "id": "sticky-wright",
   "metadata": {},
   "outputs": [],
   "source": [
    "import pandas as pd\n",
    "import numpy as np\n",
    "import matplotlib.pyplot as plt\n",
    "%matplotlib inline\n",
    "from datetime import datetime"
   ]
  },
  {
   "cell_type": "code",
   "execution_count": 2,
   "id": "tested-damages",
   "metadata": {},
   "outputs": [
    {
     "name": "stdout",
     "output_type": "stream",
     "text": [
      "/Users/kunalchakraborty/Downloads/industry_project_HQ\n"
     ]
    }
   ],
   "source": [
    "## Read data\n",
    "import os\n",
    "print(os.getcwd())"
   ]
  },
  {
   "cell_type": "markdown",
   "id": "great-marketplace",
   "metadata": {},
   "source": [
    "## Fama-French Factors"
   ]
  },
  {
   "cell_type": "markdown",
   "id": "duplicate-distribution",
   "metadata": {},
   "source": [
    "### Start with 3 factors"
   ]
  },
  {
   "cell_type": "code",
   "execution_count": 8,
   "id": "comprehensive-victory",
   "metadata": {},
   "outputs": [],
   "source": [
    "### Preprocess 3 factors dataset\n",
    "ff3 = pd.read_csv(\"data/ff3.csv\",skiprows=3,nrows=693, index_col='Unnamed: 0',)\n",
    "ff3.index = pd.to_datetime(ff3.index,format='%Y%m')"
   ]
  },
  {
   "cell_type": "code",
   "execution_count": 11,
   "id": "registered-divide",
   "metadata": {},
   "outputs": [],
   "source": [
    "## 5 factors\n",
    "ff5 = pd.read_csv(\"data/ff5.CSV\",skiprows=3,nrows=693, index_col='Unnamed: 0',)\n",
    "ff5.index = pd.to_datetime(ff5.index,format='%Y%m')"
   ]
  },
  {
   "cell_type": "markdown",
   "id": "prescribed-validity",
   "metadata": {},
   "source": [
    "## Amit Goyal's factors"
   ]
  },
  {
   "cell_type": "code",
   "execution_count": 17,
   "id": "mathematical-fever",
   "metadata": {},
   "outputs": [],
   "source": [
    "## Load index data and construct the features\n",
    "data = pd.read_csv(\"data/index_data.csv\")"
   ]
  },
  {
   "cell_type": "code",
   "execution_count": 18,
   "id": "unusual-compound",
   "metadata": {},
   "outputs": [],
   "source": [
    "## As a starter, use Amit goyals data to create features and experiment\n",
    "## Compute net returns on S&P\n",
    "data[\"temp\"] = data[\"Index\"] + data[\"D12\"]/12\n",
    "data[\"returns\"] = data[\"temp\"]/data[\"Index\"].shift()\n",
    "data[\"returns\"] = data[\"returns\"] - 1\n",
    "data.drop(\"temp\",axis=1,inplace=True)"
   ]
  },
  {
   "cell_type": "code",
   "execution_count": 20,
   "id": "demonstrated-split",
   "metadata": {},
   "outputs": [],
   "source": [
    "# equity premium, i.e., the total rate of return on the stock market minus the prevailing short-term interest rate.\n",
    "data['premium'] = data['returns'] - data['Rfree']\n",
    "\n",
    "# Dividend Price Ratio (d/p) is the difference between the log of dividends and the log of prices. \n",
    "data['d/p'] = np.log(data['D12']) - np.log(data['Index'])\n",
    "\n",
    "# Dividend Yield (d/y) is the difference between the log of dividends and the log of lagged prices.\n",
    "data['d/y'] = np.log(data['D12'])- np.log(data['Index'].shift(1))\n",
    "\n",
    "# Earnings Price Ratio (e/p) is the difference between the log of earnings and the log of prices.\n",
    "data['e/p'] = np.log(data['E12']) - np.log(data['Index'])\n",
    "\n",
    "# Dividend Payout Ratio (d/e) is the difference between the log of dividends and the log of earnings.\n",
    "data['d/e'] = np.log(data['D12']) - np.log(data['E12'])\n",
    "\n",
    "# Term Spread (tms) is the difference between the long term yield on government bonds and the T-bill.\n",
    "data['tms'] = data['lty'] - data['tbl']\n",
    "\n",
    "# Default Yield Spread (dfy): is the difference between BAA- and AAA- rated cor- porate bond yields.\n",
    "data['dfy'] = data['BAA'] - data['AAA']\n",
    "\n",
    "# Default Return Spread (dfr): is the difference between the return on long-term corporate bonds and returns on the long-term government bonds.\n",
    "data['dfr'] = data['corpr'] - data['ltr']"
   ]
  },
  {
   "cell_type": "code",
   "execution_count": 21,
   "id": "thick-intent",
   "metadata": {},
   "outputs": [
    {
     "data": {
      "text/html": [
       "<div>\n",
       "<style scoped>\n",
       "    .dataframe tbody tr th:only-of-type {\n",
       "        vertical-align: middle;\n",
       "    }\n",
       "\n",
       "    .dataframe tbody tr th {\n",
       "        vertical-align: top;\n",
       "    }\n",
       "\n",
       "    .dataframe thead th {\n",
       "        text-align: right;\n",
       "    }\n",
       "</style>\n",
       "<table border=\"1\" class=\"dataframe\">\n",
       "  <thead>\n",
       "    <tr style=\"text-align: right;\">\n",
       "      <th></th>\n",
       "      <th>date</th>\n",
       "      <th>Index</th>\n",
       "      <th>D12</th>\n",
       "      <th>E12</th>\n",
       "      <th>b/m</th>\n",
       "      <th>tbl</th>\n",
       "      <th>AAA</th>\n",
       "      <th>BAA</th>\n",
       "      <th>lty</th>\n",
       "      <th>ntis</th>\n",
       "      <th>...</th>\n",
       "      <th>CRSP_SPvwx</th>\n",
       "      <th>returns</th>\n",
       "      <th>premium</th>\n",
       "      <th>d/p</th>\n",
       "      <th>d/y</th>\n",
       "      <th>e/p</th>\n",
       "      <th>d/e</th>\n",
       "      <th>tms</th>\n",
       "      <th>dfy</th>\n",
       "      <th>dfr</th>\n",
       "    </tr>\n",
       "  </thead>\n",
       "  <tbody>\n",
       "    <tr>\n",
       "      <th>0</th>\n",
       "      <td>1959-01-01</td>\n",
       "      <td>55.42</td>\n",
       "      <td>1.75667</td>\n",
       "      <td>2.96333</td>\n",
       "      <td>0.502896</td>\n",
       "      <td>0.0282</td>\n",
       "      <td>0.0412</td>\n",
       "      <td>0.0487</td>\n",
       "      <td>0.0408</td>\n",
       "      <td>0.027736</td>\n",
       "      <td>...</td>\n",
       "      <td>0.005395</td>\n",
       "      <td>NaN</td>\n",
       "      <td>NaN</td>\n",
       "      <td>-3.451521</td>\n",
       "      <td>NaN</td>\n",
       "      <td>-2.928627</td>\n",
       "      <td>-0.522894</td>\n",
       "      <td>0.0126</td>\n",
       "      <td>0.0075</td>\n",
       "      <td>0.0052</td>\n",
       "    </tr>\n",
       "    <tr>\n",
       "      <th>1</th>\n",
       "      <td>1959-02-01</td>\n",
       "      <td>55.41</td>\n",
       "      <td>1.76333</td>\n",
       "      <td>3.03667</td>\n",
       "      <td>0.494946</td>\n",
       "      <td>0.0270</td>\n",
       "      <td>0.0414</td>\n",
       "      <td>0.0489</td>\n",
       "      <td>0.0402</td>\n",
       "      <td>0.027899</td>\n",
       "      <td>...</td>\n",
       "      <td>0.002210</td>\n",
       "      <td>0.002471</td>\n",
       "      <td>0.000571</td>\n",
       "      <td>-3.447556</td>\n",
       "      <td>-3.447736</td>\n",
       "      <td>-2.903999</td>\n",
       "      <td>-0.543557</td>\n",
       "      <td>0.0132</td>\n",
       "      <td>0.0075</td>\n",
       "      <td>0.0009</td>\n",
       "    </tr>\n",
       "    <tr>\n",
       "      <th>2</th>\n",
       "      <td>1959-03-01</td>\n",
       "      <td>55.44</td>\n",
       "      <td>1.77000</td>\n",
       "      <td>3.11000</td>\n",
       "      <td>0.516860</td>\n",
       "      <td>0.0280</td>\n",
       "      <td>0.0413</td>\n",
       "      <td>0.0485</td>\n",
       "      <td>0.0403</td>\n",
       "      <td>0.024984</td>\n",
       "      <td>...</td>\n",
       "      <td>0.000826</td>\n",
       "      <td>0.003203</td>\n",
       "      <td>0.001003</td>\n",
       "      <td>-3.444322</td>\n",
       "      <td>-3.443781</td>\n",
       "      <td>-2.880679</td>\n",
       "      <td>-0.563643</td>\n",
       "      <td>0.0123</td>\n",
       "      <td>0.0072</td>\n",
       "      <td>-0.0100</td>\n",
       "    </tr>\n",
       "    <tr>\n",
       "      <th>3</th>\n",
       "      <td>1959-04-01</td>\n",
       "      <td>57.59</td>\n",
       "      <td>1.77667</td>\n",
       "      <td>3.20667</td>\n",
       "      <td>0.498597</td>\n",
       "      <td>0.0295</td>\n",
       "      <td>0.0423</td>\n",
       "      <td>0.0486</td>\n",
       "      <td>0.0414</td>\n",
       "      <td>0.024361</td>\n",
       "      <td>...</td>\n",
       "      <td>0.039093</td>\n",
       "      <td>0.041451</td>\n",
       "      <td>0.039451</td>\n",
       "      <td>-3.478608</td>\n",
       "      <td>-3.440561</td>\n",
       "      <td>-2.888116</td>\n",
       "      <td>-0.590492</td>\n",
       "      <td>0.0119</td>\n",
       "      <td>0.0063</td>\n",
       "      <td>-0.0055</td>\n",
       "    </tr>\n",
       "    <tr>\n",
       "      <th>4</th>\n",
       "      <td>1959-05-01</td>\n",
       "      <td>58.68</td>\n",
       "      <td>1.78333</td>\n",
       "      <td>3.30333</td>\n",
       "      <td>0.483077</td>\n",
       "      <td>0.0284</td>\n",
       "      <td>0.0437</td>\n",
       "      <td>0.0496</td>\n",
       "      <td>0.0417</td>\n",
       "      <td>0.025887</td>\n",
       "      <td>...</td>\n",
       "      <td>0.019043</td>\n",
       "      <td>0.021507</td>\n",
       "      <td>0.019307</td>\n",
       "      <td>-3.493617</td>\n",
       "      <td>-3.474867</td>\n",
       "      <td>-2.877168</td>\n",
       "      <td>-0.616449</td>\n",
       "      <td>0.0133</td>\n",
       "      <td>0.0059</td>\n",
       "      <td>-0.0109</td>\n",
       "    </tr>\n",
       "  </tbody>\n",
       "</table>\n",
       "<p>5 rows × 27 columns</p>\n",
       "</div>"
      ],
      "text/plain": [
       "         date  Index      D12      E12       b/m     tbl     AAA     BAA  \\\n",
       "0  1959-01-01  55.42  1.75667  2.96333  0.502896  0.0282  0.0412  0.0487   \n",
       "1  1959-02-01  55.41  1.76333  3.03667  0.494946  0.0270  0.0414  0.0489   \n",
       "2  1959-03-01  55.44  1.77000  3.11000  0.516860  0.0280  0.0413  0.0485   \n",
       "3  1959-04-01  57.59  1.77667  3.20667  0.498597  0.0295  0.0423  0.0486   \n",
       "4  1959-05-01  58.68  1.78333  3.30333  0.483077  0.0284  0.0437  0.0496   \n",
       "\n",
       "      lty      ntis  ...  CRSP_SPvwx   returns   premium       d/p       d/y  \\\n",
       "0  0.0408  0.027736  ...    0.005395       NaN       NaN -3.451521       NaN   \n",
       "1  0.0402  0.027899  ...    0.002210  0.002471  0.000571 -3.447556 -3.447736   \n",
       "2  0.0403  0.024984  ...    0.000826  0.003203  0.001003 -3.444322 -3.443781   \n",
       "3  0.0414  0.024361  ...    0.039093  0.041451  0.039451 -3.478608 -3.440561   \n",
       "4  0.0417  0.025887  ...    0.019043  0.021507  0.019307 -3.493617 -3.474867   \n",
       "\n",
       "        e/p       d/e     tms     dfy     dfr  \n",
       "0 -2.928627 -0.522894  0.0126  0.0075  0.0052  \n",
       "1 -2.903999 -0.543557  0.0132  0.0075  0.0009  \n",
       "2 -2.880679 -0.563643  0.0123  0.0072 -0.0100  \n",
       "3 -2.888116 -0.590492  0.0119  0.0063 -0.0055  \n",
       "4 -2.877168 -0.616449  0.0133  0.0059 -0.0109  \n",
       "\n",
       "[5 rows x 27 columns]"
      ]
     },
     "execution_count": 21,
     "metadata": {},
     "output_type": "execute_result"
    }
   ],
   "source": [
    "data.head()"
   ]
  },
  {
   "cell_type": "code",
   "execution_count": 22,
   "id": "documented-chambers",
   "metadata": {},
   "outputs": [],
   "source": [
    "data.to_csv(\"data/ag_transformed_features.csv\",index=False)"
   ]
  }
 ],
 "metadata": {
  "kernelspec": {
   "display_name": "Python 3",
   "language": "python",
   "name": "python3"
  },
  "language_info": {
   "codemirror_mode": {
    "name": "ipython",
    "version": 3
   },
   "file_extension": ".py",
   "mimetype": "text/x-python",
   "name": "python",
   "nbconvert_exporter": "python",
   "pygments_lexer": "ipython3",
   "version": "3.8.2"
  }
 },
 "nbformat": 4,
 "nbformat_minor": 5
}
