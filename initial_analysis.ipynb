{
 "cells": [
  {
   "cell_type": "code",
   "execution_count": 1,
   "metadata": {},
   "outputs": [],
   "source": [
    "import pandas as pd\n",
    "import numpy as np\n",
    "import matplotlib.pyplot as plt\n",
    "%matplotlib inline\n",
    "from datetime import datetime"
   ]
  },
  {
   "cell_type": "code",
   "execution_count": 2,
   "metadata": {},
   "outputs": [
    {
     "name": "stdout",
     "output_type": "stream",
     "text": [
      "/Users/kunalchakraborty/Downloads/industry_project_HQ\n"
     ]
    }
   ],
   "source": [
    "## Read data\n",
    "import os\n",
    "print(os.getcwd())"
   ]
  },
  {
   "cell_type": "code",
   "execution_count": 20,
   "metadata": {},
   "outputs": [
    {
     "name": "stdout",
     "output_type": "stream",
     "text": [
      "Collecting openpyxl\n",
      "  Downloading openpyxl-3.0.7-py2.py3-none-any.whl (243 kB)\n",
      "\u001b[K     |████████████████████████████████| 243 kB 4.7 MB/s eta 0:00:01\n",
      "\u001b[?25hCollecting et-xmlfile\n",
      "  Downloading et_xmlfile-1.1.0-py3-none-any.whl (4.7 kB)\n",
      "Installing collected packages: et-xmlfile, openpyxl\n",
      "Successfully installed et-xmlfile-1.1.0 openpyxl-3.0.7\n"
     ]
    }
   ],
   "source": [
    "!pip install openpyxl"
   ]
  },
  {
   "cell_type": "code",
   "execution_count": 3,
   "metadata": {},
   "outputs": [
    {
     "name": "stderr",
     "output_type": "stream",
     "text": [
      "/Users/kunalchakraborty/Downloads/MFE22_GRP13_SEM1/venv/lib/python3.8/site-packages/openpyxl/worksheet/header_footer.py:48: UserWarning: Cannot parse header or footer so it will be ignored\n",
      "  warn(\"\"\"Cannot parse header or footer so it will be ignored\"\"\")\n"
     ]
    }
   ],
   "source": [
    "data = pd.read_excel(\"data/PredictorData2020.xlsx\", sheet_name=\"Monthly\")"
   ]
  },
  {
   "cell_type": "code",
   "execution_count": 4,
   "metadata": {},
   "outputs": [],
   "source": [
    "## Global parameters\n",
    "start_date = datetime(1959,1,1).date()\n",
    "end_date = datetime(2020,12,1).date()"
   ]
  },
  {
   "cell_type": "code",
   "execution_count": 5,
   "metadata": {},
   "outputs": [],
   "source": [
    "## Parse dates and keep data only from 1959\n",
    "data[\"yyyymm\"] = data[\"yyyymm\"].apply(str)\n",
    "data[\"yyyymm\"] = data[\"yyyymm\"].apply(lambda x:datetime.strptime(x,\"%Y%m\").date())\n",
    "data = data[(data[\"yyyymm\"] >=datetime(1959,1,1).date()) & (data[\"yyyymm\"]<=end_date)]\n",
    "data.reset_index(drop=True, inplace=True)\n",
    "data.rename(columns={\"yyyymm\":\"date\"},inplace=True)\n",
    "data.set_index(\"date\",inplace=True)"
   ]
  },
  {
   "cell_type": "code",
   "execution_count": 6,
   "metadata": {},
   "outputs": [],
   "source": [
    "## Save data\n",
    "data.to_csv(\"data/index_data.csv\")"
   ]
  },
  {
   "cell_type": "code",
   "execution_count": 7,
   "metadata": {},
   "outputs": [
    {
     "data": {
      "text/html": [
       "<div>\n",
       "<style scoped>\n",
       "    .dataframe tbody tr th:only-of-type {\n",
       "        vertical-align: middle;\n",
       "    }\n",
       "\n",
       "    .dataframe tbody tr th {\n",
       "        vertical-align: top;\n",
       "    }\n",
       "\n",
       "    .dataframe thead th {\n",
       "        text-align: right;\n",
       "    }\n",
       "</style>\n",
       "<table border=\"1\" class=\"dataframe\">\n",
       "  <thead>\n",
       "    <tr style=\"text-align: right;\">\n",
       "      <th></th>\n",
       "      <th>Index</th>\n",
       "      <th>D12</th>\n",
       "      <th>E12</th>\n",
       "      <th>b/m</th>\n",
       "      <th>tbl</th>\n",
       "      <th>AAA</th>\n",
       "      <th>BAA</th>\n",
       "      <th>lty</th>\n",
       "      <th>ntis</th>\n",
       "      <th>Rfree</th>\n",
       "      <th>infl</th>\n",
       "      <th>ltr</th>\n",
       "      <th>corpr</th>\n",
       "      <th>svar</th>\n",
       "      <th>csp</th>\n",
       "      <th>CRSP_SPvw</th>\n",
       "      <th>CRSP_SPvwx</th>\n",
       "    </tr>\n",
       "    <tr>\n",
       "      <th>date</th>\n",
       "      <th></th>\n",
       "      <th></th>\n",
       "      <th></th>\n",
       "      <th></th>\n",
       "      <th></th>\n",
       "      <th></th>\n",
       "      <th></th>\n",
       "      <th></th>\n",
       "      <th></th>\n",
       "      <th></th>\n",
       "      <th></th>\n",
       "      <th></th>\n",
       "      <th></th>\n",
       "      <th></th>\n",
       "      <th></th>\n",
       "      <th></th>\n",
       "      <th></th>\n",
       "    </tr>\n",
       "  </thead>\n",
       "  <tbody>\n",
       "    <tr>\n",
       "      <th>1959-01-01</th>\n",
       "      <td>55.42</td>\n",
       "      <td>1.75667</td>\n",
       "      <td>2.96333</td>\n",
       "      <td>0.502896</td>\n",
       "      <td>0.0282</td>\n",
       "      <td>0.0412</td>\n",
       "      <td>0.0487</td>\n",
       "      <td>0.0408</td>\n",
       "      <td>0.027736</td>\n",
       "      <td>0.0021</td>\n",
       "      <td>0.003460</td>\n",
       "      <td>-0.0080</td>\n",
       "      <td>-0.0028</td>\n",
       "      <td>0.000585</td>\n",
       "      <td>0.001722</td>\n",
       "      <td>0.006331</td>\n",
       "      <td>0.005395</td>\n",
       "    </tr>\n",
       "    <tr>\n",
       "      <th>1959-02-01</th>\n",
       "      <td>55.41</td>\n",
       "      <td>1.76333</td>\n",
       "      <td>3.03667</td>\n",
       "      <td>0.494946</td>\n",
       "      <td>0.0270</td>\n",
       "      <td>0.0414</td>\n",
       "      <td>0.0489</td>\n",
       "      <td>0.0402</td>\n",
       "      <td>0.027899</td>\n",
       "      <td>0.0019</td>\n",
       "      <td>-0.003448</td>\n",
       "      <td>0.0117</td>\n",
       "      <td>0.0126</td>\n",
       "      <td>0.000845</td>\n",
       "      <td>0.001945</td>\n",
       "      <td>0.006711</td>\n",
       "      <td>0.002210</td>\n",
       "    </tr>\n",
       "    <tr>\n",
       "      <th>1959-03-01</th>\n",
       "      <td>55.44</td>\n",
       "      <td>1.77000</td>\n",
       "      <td>3.11000</td>\n",
       "      <td>0.516860</td>\n",
       "      <td>0.0280</td>\n",
       "      <td>0.0413</td>\n",
       "      <td>0.0485</td>\n",
       "      <td>0.0403</td>\n",
       "      <td>0.024984</td>\n",
       "      <td>0.0022</td>\n",
       "      <td>0.000000</td>\n",
       "      <td>0.0017</td>\n",
       "      <td>-0.0083</td>\n",
       "      <td>0.000492</td>\n",
       "      <td>0.001768</td>\n",
       "      <td>0.003352</td>\n",
       "      <td>0.000826</td>\n",
       "    </tr>\n",
       "    <tr>\n",
       "      <th>1959-04-01</th>\n",
       "      <td>57.59</td>\n",
       "      <td>1.77667</td>\n",
       "      <td>3.20667</td>\n",
       "      <td>0.498597</td>\n",
       "      <td>0.0295</td>\n",
       "      <td>0.0423</td>\n",
       "      <td>0.0486</td>\n",
       "      <td>0.0414</td>\n",
       "      <td>0.024361</td>\n",
       "      <td>0.0020</td>\n",
       "      <td>0.003460</td>\n",
       "      <td>-0.0117</td>\n",
       "      <td>-0.0172</td>\n",
       "      <td>0.000493</td>\n",
       "      <td>0.001357</td>\n",
       "      <td>0.040054</td>\n",
       "      <td>0.039093</td>\n",
       "    </tr>\n",
       "    <tr>\n",
       "      <th>1959-05-01</th>\n",
       "      <td>58.68</td>\n",
       "      <td>1.78333</td>\n",
       "      <td>3.30333</td>\n",
       "      <td>0.483077</td>\n",
       "      <td>0.0284</td>\n",
       "      <td>0.0437</td>\n",
       "      <td>0.0496</td>\n",
       "      <td>0.0417</td>\n",
       "      <td>0.025887</td>\n",
       "      <td>0.0022</td>\n",
       "      <td>0.000000</td>\n",
       "      <td>-0.0005</td>\n",
       "      <td>-0.0114</td>\n",
       "      <td>0.000428</td>\n",
       "      <td>0.001913</td>\n",
       "      <td>0.023631</td>\n",
       "      <td>0.019043</td>\n",
       "    </tr>\n",
       "  </tbody>\n",
       "</table>\n",
       "</div>"
      ],
      "text/plain": [
       "            Index      D12      E12       b/m     tbl     AAA     BAA     lty  \\\n",
       "date                                                                            \n",
       "1959-01-01  55.42  1.75667  2.96333  0.502896  0.0282  0.0412  0.0487  0.0408   \n",
       "1959-02-01  55.41  1.76333  3.03667  0.494946  0.0270  0.0414  0.0489  0.0402   \n",
       "1959-03-01  55.44  1.77000  3.11000  0.516860  0.0280  0.0413  0.0485  0.0403   \n",
       "1959-04-01  57.59  1.77667  3.20667  0.498597  0.0295  0.0423  0.0486  0.0414   \n",
       "1959-05-01  58.68  1.78333  3.30333  0.483077  0.0284  0.0437  0.0496  0.0417   \n",
       "\n",
       "                ntis   Rfree      infl     ltr   corpr      svar       csp  \\\n",
       "date                                                                         \n",
       "1959-01-01  0.027736  0.0021  0.003460 -0.0080 -0.0028  0.000585  0.001722   \n",
       "1959-02-01  0.027899  0.0019 -0.003448  0.0117  0.0126  0.000845  0.001945   \n",
       "1959-03-01  0.024984  0.0022  0.000000  0.0017 -0.0083  0.000492  0.001768   \n",
       "1959-04-01  0.024361  0.0020  0.003460 -0.0117 -0.0172  0.000493  0.001357   \n",
       "1959-05-01  0.025887  0.0022  0.000000 -0.0005 -0.0114  0.000428  0.001913   \n",
       "\n",
       "            CRSP_SPvw  CRSP_SPvwx  \n",
       "date                               \n",
       "1959-01-01   0.006331    0.005395  \n",
       "1959-02-01   0.006711    0.002210  \n",
       "1959-03-01   0.003352    0.000826  \n",
       "1959-04-01   0.040054    0.039093  \n",
       "1959-05-01   0.023631    0.019043  "
      ]
     },
     "execution_count": 7,
     "metadata": {},
     "output_type": "execute_result"
    }
   ],
   "source": [
    "data.head()"
   ]
  },
  {
   "cell_type": "code",
   "execution_count": 8,
   "metadata": {},
   "outputs": [
    {
     "name": "stdout",
     "output_type": "stream",
     "text": [
      "<class 'pandas.core.frame.DataFrame'>\n",
      "Index: 744 entries, 1959-01-01 to 2020-12-01\n",
      "Data columns (total 17 columns):\n",
      " #   Column      Non-Null Count  Dtype  \n",
      "---  ------      --------------  -----  \n",
      " 0   Index       744 non-null    float64\n",
      " 1   D12         744 non-null    float64\n",
      " 2   E12         744 non-null    float64\n",
      " 3   b/m         734 non-null    float64\n",
      " 4   tbl         744 non-null    float64\n",
      " 5   AAA         744 non-null    float64\n",
      " 6   BAA         744 non-null    float64\n",
      " 7   lty         744 non-null    float64\n",
      " 8   ntis        744 non-null    float64\n",
      " 9   Rfree       744 non-null    float64\n",
      " 10  infl        744 non-null    float64\n",
      " 11  ltr         744 non-null    float64\n",
      " 12  corpr       744 non-null    float64\n",
      " 13  svar        744 non-null    float64\n",
      " 14  csp         528 non-null    float64\n",
      " 15  CRSP_SPvw   744 non-null    float64\n",
      " 16  CRSP_SPvwx  744 non-null    float64\n",
      "dtypes: float64(17)\n",
      "memory usage: 104.6+ KB\n"
     ]
    }
   ],
   "source": [
    "data.info()"
   ]
  },
  {
   "cell_type": "code",
   "execution_count": 9,
   "metadata": {},
   "outputs": [],
   "source": [
    "## Plotting functions for time series\n",
    "def plot_series(tseries, xlabel, ylabel, title, new_fig=True, label=\"\"):\n",
    "    if new_fig:\n",
    "        plt.figure(figsize=(8,6))\n",
    "    plt.plot(tseries,label=label)\n",
    "    plt.xlabel(xlabel, size=15)\n",
    "    plt.ylabel(ylabel, size=15)\n",
    "    plt.title(title, size=15)\n",
    "    plt.xticks(size=15)\n",
    "    plt.yticks(size=15)"
   ]
  },
  {
   "cell_type": "code",
   "execution_count": 10,
   "metadata": {},
   "outputs": [
    {
     "data": {
      "image/png": "[encoded data removed]",
      "text/plain": [
       "<Figure size 576x432 with 1 Axes>"
      ]
     },
     "metadata": {
      "needs_background": "light"
     },
     "output_type": "display_data"
    }
   ],
   "source": [
    "plot_series(data[\"Index\"],xlabel=\"date\",ylabel=\"$ price\",title=\"S&P500\",label = \"S&P\")"
   ]
  },
  {
   "cell_type": "code",
   "execution_count": 11,
   "metadata": {},
   "outputs": [
    {
     "data": {
      "text/html": [
       "<div>\n",
       "<style scoped>\n",
       "    .dataframe tbody tr th:only-of-type {\n",
       "        vertical-align: middle;\n",
       "    }\n",
       "\n",
       "    .dataframe tbody tr th {\n",
       "        vertical-align: top;\n",
       "    }\n",
       "\n",
       "    .dataframe thead th {\n",
       "        text-align: right;\n",
       "    }\n",
       "</style>\n",
       "<table border=\"1\" class=\"dataframe\">\n",
       "  <thead>\n",
       "    <tr style=\"text-align: right;\">\n",
       "      <th></th>\n",
       "      <th>Index</th>\n",
       "      <th>D12</th>\n",
       "      <th>E12</th>\n",
       "      <th>b/m</th>\n",
       "      <th>tbl</th>\n",
       "      <th>AAA</th>\n",
       "      <th>BAA</th>\n",
       "      <th>lty</th>\n",
       "      <th>ntis</th>\n",
       "      <th>Rfree</th>\n",
       "      <th>infl</th>\n",
       "      <th>ltr</th>\n",
       "      <th>corpr</th>\n",
       "      <th>svar</th>\n",
       "      <th>csp</th>\n",
       "      <th>CRSP_SPvw</th>\n",
       "      <th>CRSP_SPvwx</th>\n",
       "    </tr>\n",
       "    <tr>\n",
       "      <th>date</th>\n",
       "      <th></th>\n",
       "      <th></th>\n",
       "      <th></th>\n",
       "      <th></th>\n",
       "      <th></th>\n",
       "      <th></th>\n",
       "      <th></th>\n",
       "      <th></th>\n",
       "      <th></th>\n",
       "      <th></th>\n",
       "      <th></th>\n",
       "      <th></th>\n",
       "      <th></th>\n",
       "      <th></th>\n",
       "      <th></th>\n",
       "      <th></th>\n",
       "      <th></th>\n",
       "    </tr>\n",
       "  </thead>\n",
       "  <tbody>\n",
       "    <tr>\n",
       "      <th>1959-01-01</th>\n",
       "      <td>55.42</td>\n",
       "      <td>1.75667</td>\n",
       "      <td>2.96333</td>\n",
       "      <td>0.502896</td>\n",
       "      <td>0.0282</td>\n",
       "      <td>0.0412</td>\n",
       "      <td>0.0487</td>\n",
       "      <td>0.0408</td>\n",
       "      <td>0.027736</td>\n",
       "      <td>0.0021</td>\n",
       "      <td>0.003460</td>\n",
       "      <td>-0.0080</td>\n",
       "      <td>-0.0028</td>\n",
       "      <td>0.000585</td>\n",
       "      <td>0.001722</td>\n",
       "      <td>0.006331</td>\n",
       "      <td>0.005395</td>\n",
       "    </tr>\n",
       "    <tr>\n",
       "      <th>1959-02-01</th>\n",
       "      <td>55.41</td>\n",
       "      <td>1.76333</td>\n",
       "      <td>3.03667</td>\n",
       "      <td>0.494946</td>\n",
       "      <td>0.0270</td>\n",
       "      <td>0.0414</td>\n",
       "      <td>0.0489</td>\n",
       "      <td>0.0402</td>\n",
       "      <td>0.027899</td>\n",
       "      <td>0.0019</td>\n",
       "      <td>-0.003448</td>\n",
       "      <td>0.0117</td>\n",
       "      <td>0.0126</td>\n",
       "      <td>0.000845</td>\n",
       "      <td>0.001945</td>\n",
       "      <td>0.006711</td>\n",
       "      <td>0.002210</td>\n",
       "    </tr>\n",
       "    <tr>\n",
       "      <th>1959-03-01</th>\n",
       "      <td>55.44</td>\n",
       "      <td>1.77000</td>\n",
       "      <td>3.11000</td>\n",
       "      <td>0.516860</td>\n",
       "      <td>0.0280</td>\n",
       "      <td>0.0413</td>\n",
       "      <td>0.0485</td>\n",
       "      <td>0.0403</td>\n",
       "      <td>0.024984</td>\n",
       "      <td>0.0022</td>\n",
       "      <td>0.000000</td>\n",
       "      <td>0.0017</td>\n",
       "      <td>-0.0083</td>\n",
       "      <td>0.000492</td>\n",
       "      <td>0.001768</td>\n",
       "      <td>0.003352</td>\n",
       "      <td>0.000826</td>\n",
       "    </tr>\n",
       "    <tr>\n",
       "      <th>1959-04-01</th>\n",
       "      <td>57.59</td>\n",
       "      <td>1.77667</td>\n",
       "      <td>3.20667</td>\n",
       "      <td>0.498597</td>\n",
       "      <td>0.0295</td>\n",
       "      <td>0.0423</td>\n",
       "      <td>0.0486</td>\n",
       "      <td>0.0414</td>\n",
       "      <td>0.024361</td>\n",
       "      <td>0.0020</td>\n",
       "      <td>0.003460</td>\n",
       "      <td>-0.0117</td>\n",
       "      <td>-0.0172</td>\n",
       "      <td>0.000493</td>\n",
       "      <td>0.001357</td>\n",
       "      <td>0.040054</td>\n",
       "      <td>0.039093</td>\n",
       "    </tr>\n",
       "    <tr>\n",
       "      <th>1959-05-01</th>\n",
       "      <td>58.68</td>\n",
       "      <td>1.78333</td>\n",
       "      <td>3.30333</td>\n",
       "      <td>0.483077</td>\n",
       "      <td>0.0284</td>\n",
       "      <td>0.0437</td>\n",
       "      <td>0.0496</td>\n",
       "      <td>0.0417</td>\n",
       "      <td>0.025887</td>\n",
       "      <td>0.0022</td>\n",
       "      <td>0.000000</td>\n",
       "      <td>-0.0005</td>\n",
       "      <td>-0.0114</td>\n",
       "      <td>0.000428</td>\n",
       "      <td>0.001913</td>\n",
       "      <td>0.023631</td>\n",
       "      <td>0.019043</td>\n",
       "    </tr>\n",
       "  </tbody>\n",
       "</table>\n",
       "</div>"
      ],
      "text/plain": [
       "            Index      D12      E12       b/m     tbl     AAA     BAA     lty  \\\n",
       "date                                                                            \n",
       "1959-01-01  55.42  1.75667  2.96333  0.502896  0.0282  0.0412  0.0487  0.0408   \n",
       "1959-02-01  55.41  1.76333  3.03667  0.494946  0.0270  0.0414  0.0489  0.0402   \n",
       "1959-03-01  55.44  1.77000  3.11000  0.516860  0.0280  0.0413  0.0485  0.0403   \n",
       "1959-04-01  57.59  1.77667  3.20667  0.498597  0.0295  0.0423  0.0486  0.0414   \n",
       "1959-05-01  58.68  1.78333  3.30333  0.483077  0.0284  0.0437  0.0496  0.0417   \n",
       "\n",
       "                ntis   Rfree      infl     ltr   corpr      svar       csp  \\\n",
       "date                                                                         \n",
       "1959-01-01  0.027736  0.0021  0.003460 -0.0080 -0.0028  0.000585  0.001722   \n",
       "1959-02-01  0.027899  0.0019 -0.003448  0.0117  0.0126  0.000845  0.001945   \n",
       "1959-03-01  0.024984  0.0022  0.000000  0.0017 -0.0083  0.000492  0.001768   \n",
       "1959-04-01  0.024361  0.0020  0.003460 -0.0117 -0.0172  0.000493  0.001357   \n",
       "1959-05-01  0.025887  0.0022  0.000000 -0.0005 -0.0114  0.000428  0.001913   \n",
       "\n",
       "            CRSP_SPvw  CRSP_SPvwx  \n",
       "date                               \n",
       "1959-01-01   0.006331    0.005395  \n",
       "1959-02-01   0.006711    0.002210  \n",
       "1959-03-01   0.003352    0.000826  \n",
       "1959-04-01   0.040054    0.039093  \n",
       "1959-05-01   0.023631    0.019043  "
      ]
     },
     "execution_count": 11,
     "metadata": {},
     "output_type": "execute_result"
    }
   ],
   "source": [
    "## Prepare monthly returns on S&P index\n",
    "data.head()"
   ]
  },
  {
   "cell_type": "markdown",
   "metadata": {},
   "source": [
    "$$R_t = \\frac{P_{t+1} + D_{t+1}}{P_{t}} - 1$$"
   ]
  },
  {
   "cell_type": "code",
   "execution_count": 12,
   "metadata": {},
   "outputs": [],
   "source": [
    "## Compute net returns on S&P\n",
    "data[\"temp\"] = data[\"Index\"] + data[\"D12\"]/12\n",
    "data[\"returns\"] = data[\"temp\"]/data[\"Index\"].shift()\n",
    "data[\"returns\"] = data[\"returns\"] - 1\n",
    "data.drop(\"temp\",axis=1,inplace=True)"
   ]
  },
  {
   "cell_type": "code",
   "execution_count": 13,
   "metadata": {},
   "outputs": [
    {
     "data": {
      "text/html": [
       "<div>\n",
       "<style scoped>\n",
       "    .dataframe tbody tr th:only-of-type {\n",
       "        vertical-align: middle;\n",
       "    }\n",
       "\n",
       "    .dataframe tbody tr th {\n",
       "        vertical-align: top;\n",
       "    }\n",
       "\n",
       "    .dataframe thead th {\n",
       "        text-align: right;\n",
       "    }\n",
       "</style>\n",
       "<table border=\"1\" class=\"dataframe\">\n",
       "  <thead>\n",
       "    <tr style=\"text-align: right;\">\n",
       "      <th></th>\n",
       "      <th>Index</th>\n",
       "      <th>returns</th>\n",
       "    </tr>\n",
       "    <tr>\n",
       "      <th>date</th>\n",
       "      <th></th>\n",
       "      <th></th>\n",
       "    </tr>\n",
       "  </thead>\n",
       "  <tbody>\n",
       "    <tr>\n",
       "      <th>1959-01-01</th>\n",
       "      <td>55.42</td>\n",
       "      <td>NaN</td>\n",
       "    </tr>\n",
       "    <tr>\n",
       "      <th>1959-02-01</th>\n",
       "      <td>55.41</td>\n",
       "      <td>0.002471</td>\n",
       "    </tr>\n",
       "    <tr>\n",
       "      <th>1959-03-01</th>\n",
       "      <td>55.44</td>\n",
       "      <td>0.003203</td>\n",
       "    </tr>\n",
       "    <tr>\n",
       "      <th>1959-04-01</th>\n",
       "      <td>57.59</td>\n",
       "      <td>0.041451</td>\n",
       "    </tr>\n",
       "    <tr>\n",
       "      <th>1959-05-01</th>\n",
       "      <td>58.68</td>\n",
       "      <td>0.021507</td>\n",
       "    </tr>\n",
       "    <tr>\n",
       "      <th>...</th>\n",
       "      <td>...</td>\n",
       "      <td>...</td>\n",
       "    </tr>\n",
       "    <tr>\n",
       "      <th>2020-08-01</th>\n",
       "      <td>3500.31</td>\n",
       "      <td>0.071571</td>\n",
       "    </tr>\n",
       "    <tr>\n",
       "      <th>2020-09-01</th>\n",
       "      <td>3363.00</td>\n",
       "      <td>-0.037827</td>\n",
       "    </tr>\n",
       "    <tr>\n",
       "      <th>2020-10-01</th>\n",
       "      <td>3269.96</td>\n",
       "      <td>-0.026212</td>\n",
       "    </tr>\n",
       "    <tr>\n",
       "      <th>2020-11-01</th>\n",
       "      <td>3621.63</td>\n",
       "      <td>0.109036</td>\n",
       "    </tr>\n",
       "    <tr>\n",
       "      <th>2020-12-01</th>\n",
       "      <td>3756.07</td>\n",
       "      <td>0.038462</td>\n",
       "    </tr>\n",
       "  </tbody>\n",
       "</table>\n",
       "<p>744 rows × 2 columns</p>\n",
       "</div>"
      ],
      "text/plain": [
       "              Index   returns\n",
       "date                         \n",
       "1959-01-01    55.42       NaN\n",
       "1959-02-01    55.41  0.002471\n",
       "1959-03-01    55.44  0.003203\n",
       "1959-04-01    57.59  0.041451\n",
       "1959-05-01    58.68  0.021507\n",
       "...             ...       ...\n",
       "2020-08-01  3500.31  0.071571\n",
       "2020-09-01  3363.00 -0.037827\n",
       "2020-10-01  3269.96 -0.026212\n",
       "2020-11-01  3621.63  0.109036\n",
       "2020-12-01  3756.07  0.038462\n",
       "\n",
       "[744 rows x 2 columns]"
      ]
     },
     "execution_count": 13,
     "metadata": {},
     "output_type": "execute_result"
    }
   ],
   "source": [
    "data[[\"Index\",\"returns\"]]"
   ]
  },
  {
   "cell_type": "code",
   "execution_count": 14,
   "metadata": {},
   "outputs": [
    {
     "data": {
      "image/png": "[encoded data removed]",
      "text/plain": [
       "<Figure size 576x432 with 1 Axes>"
      ]
     },
     "metadata": {
      "needs_background": "light"
     },
     "output_type": "display_data"
    }
   ],
   "source": [
    "## Plot S&P returns\n",
    "plot_series(data[\"returns\"],xlabel=\"date\",ylabel=\"% returns\",title=\"S&P500\",label = \"S&P\")"
   ]
  },
  {
   "cell_type": "code",
   "execution_count": 16,
   "metadata": {},
   "outputs": [
    {
     "data": {
      "image/png": "[encoded data removed]",
      "text/plain": [
       "<Figure size 576x432 with 1 Axes>"
      ]
     },
     "metadata": {
      "needs_background": "light"
     },
     "output_type": "display_data"
    }
   ],
   "source": [
    "## Plot S&P returns\n",
    "plot_series(data[\"returns\"].cumsum(),xlabel=\"date\",ylabel=\"% returns\",title=\"S&P500\",label = \"S&P\")"
   ]
  },
  {
   "cell_type": "code",
   "execution_count": 15,
   "metadata": {},
   "outputs": [
    {
     "data": {
      "text/plain": [
       "count    743.000000\n",
       "mean       0.009041\n",
       "std        0.042574\n",
       "min       -0.215375\n",
       "25%       -0.015412\n",
       "50%        0.012069\n",
       "75%        0.036714\n",
       "max        0.167760\n",
       "Name: returns, dtype: float64"
      ]
     },
     "execution_count": 15,
     "metadata": {},
     "output_type": "execute_result"
    }
   ],
   "source": [
    "data[\"returns\"].describe()"
   ]
  },
  {
   "cell_type": "code",
   "execution_count": 9,
   "metadata": {},
   "outputs": [],
   "source": [
    "## Load FRED data\n",
    "fred_data = pd.read_csv(\"data/current.csv\")"
   ]
  },
  {
   "cell_type": "code",
   "execution_count": 4,
   "metadata": {},
   "outputs": [],
   "source": [
    "## Save transformation information\n",
    "transformation_info = fred_data[fred_data.columns[1:]].iloc[0].to_dict()"
   ]
  },
  {
   "cell_type": "code",
   "execution_count": 10,
   "metadata": {},
   "outputs": [],
   "source": [
    "## Pre-processing\n",
    "fred_data = fred_data.iloc[1:-1].copy()\n",
    "fred_data[\"sasdate\"] = fred_data[\"sasdate\"].apply(lambda x:datetime.strptime(x,\"%m/%d/%Y\").date())\n",
    "fred_data = fred_data[(fred_data[\"sasdate\"] >= start_date) & \n",
    "                      (fred_data[\"sasdate\"] <= end_date)]\n",
    "fred_data.reset_index(drop=True, inplace=True)\n",
    "fred_data.rename(columns={\"sasdate\":\"date\"},inplace=True)\n",
    "fred_data.set_index(\"date\",inplace=True)"
   ]
  },
  {
   "cell_type": "code",
   "execution_count": 13,
   "metadata": {},
   "outputs": [],
   "source": [
    "## Save as fred_data\n",
    "#fred_data.to_csv(\"data/fred_data.csv\")"
   ]
  },
  {
   "cell_type": "code",
   "execution_count": 11,
   "metadata": {},
   "outputs": [
    {
     "data": {
      "text/html": [
       "<div>\n",
       "<style scoped>\n",
       "    .dataframe tbody tr th:only-of-type {\n",
       "        vertical-align: middle;\n",
       "    }\n",
       "\n",
       "    .dataframe tbody tr th {\n",
       "        vertical-align: top;\n",
       "    }\n",
       "\n",
       "    .dataframe thead th {\n",
       "        text-align: right;\n",
       "    }\n",
       "</style>\n",
       "<table border=\"1\" class=\"dataframe\">\n",
       "  <thead>\n",
       "    <tr style=\"text-align: right;\">\n",
       "      <th></th>\n",
       "      <th>RPI</th>\n",
       "      <th>W875RX1</th>\n",
       "      <th>DPCERA3M086SBEA</th>\n",
       "      <th>CMRMTSPLx</th>\n",
       "      <th>RETAILx</th>\n",
       "      <th>INDPRO</th>\n",
       "      <th>IPFPNSS</th>\n",
       "      <th>IPFINAL</th>\n",
       "      <th>IPCONGD</th>\n",
       "      <th>IPDCONGD</th>\n",
       "      <th>...</th>\n",
       "      <th>DSERRG3M086SBEA</th>\n",
       "      <th>CES0600000008</th>\n",
       "      <th>CES2000000008</th>\n",
       "      <th>CES3000000008</th>\n",
       "      <th>UMCSENTx</th>\n",
       "      <th>MZMSL</th>\n",
       "      <th>DTCOLNVHFNM</th>\n",
       "      <th>DTCTHFNM</th>\n",
       "      <th>INVEST</th>\n",
       "      <th>VXOCLSx</th>\n",
       "    </tr>\n",
       "    <tr>\n",
       "      <th>date</th>\n",
       "      <th></th>\n",
       "      <th></th>\n",
       "      <th></th>\n",
       "      <th></th>\n",
       "      <th></th>\n",
       "      <th></th>\n",
       "      <th></th>\n",
       "      <th></th>\n",
       "      <th></th>\n",
       "      <th></th>\n",
       "      <th></th>\n",
       "      <th></th>\n",
       "      <th></th>\n",
       "      <th></th>\n",
       "      <th></th>\n",
       "      <th></th>\n",
       "      <th></th>\n",
       "      <th></th>\n",
       "      <th></th>\n",
       "      <th></th>\n",
       "      <th></th>\n",
       "    </tr>\n",
       "  </thead>\n",
       "  <tbody>\n",
       "    <tr>\n",
       "      <th>1959-01-01</th>\n",
       "      <td>2437.296</td>\n",
       "      <td>2288.8</td>\n",
       "      <td>17.302</td>\n",
       "      <td>292258.8329</td>\n",
       "      <td>18235.77392</td>\n",
       "      <td>22.6250</td>\n",
       "      <td>23.4581</td>\n",
       "      <td>22.1904</td>\n",
       "      <td>32.4078</td>\n",
       "      <td>21.9882</td>\n",
       "      <td>...</td>\n",
       "      <td>11.358</td>\n",
       "      <td>2.13</td>\n",
       "      <td>2.45</td>\n",
       "      <td>2.04</td>\n",
       "      <td>NaN</td>\n",
       "      <td>274.9</td>\n",
       "      <td>6476.0</td>\n",
       "      <td>12298.0</td>\n",
       "      <td>84.2043</td>\n",
       "      <td>NaN</td>\n",
       "    </tr>\n",
       "    <tr>\n",
       "      <th>1959-02-01</th>\n",
       "      <td>2446.902</td>\n",
       "      <td>2297.0</td>\n",
       "      <td>17.482</td>\n",
       "      <td>294429.5453</td>\n",
       "      <td>18369.56308</td>\n",
       "      <td>23.0681</td>\n",
       "      <td>23.7747</td>\n",
       "      <td>22.3827</td>\n",
       "      <td>32.6455</td>\n",
       "      <td>22.1036</td>\n",
       "      <td>...</td>\n",
       "      <td>11.375</td>\n",
       "      <td>2.14</td>\n",
       "      <td>2.46</td>\n",
       "      <td>2.05</td>\n",
       "      <td>NaN</td>\n",
       "      <td>276.0</td>\n",
       "      <td>6476.0</td>\n",
       "      <td>12298.0</td>\n",
       "      <td>83.5280</td>\n",
       "      <td>NaN</td>\n",
       "    </tr>\n",
       "    <tr>\n",
       "      <th>1959-03-01</th>\n",
       "      <td>2462.689</td>\n",
       "      <td>2314.0</td>\n",
       "      <td>17.647</td>\n",
       "      <td>293425.3813</td>\n",
       "      <td>18523.05762</td>\n",
       "      <td>23.4004</td>\n",
       "      <td>23.9186</td>\n",
       "      <td>22.4925</td>\n",
       "      <td>32.6455</td>\n",
       "      <td>22.5365</td>\n",
       "      <td>...</td>\n",
       "      <td>11.395</td>\n",
       "      <td>2.15</td>\n",
       "      <td>2.45</td>\n",
       "      <td>2.07</td>\n",
       "      <td>NaN</td>\n",
       "      <td>277.4</td>\n",
       "      <td>6508.0</td>\n",
       "      <td>12349.0</td>\n",
       "      <td>81.6405</td>\n",
       "      <td>NaN</td>\n",
       "    </tr>\n",
       "    <tr>\n",
       "      <th>1959-04-01</th>\n",
       "      <td>2478.744</td>\n",
       "      <td>2330.3</td>\n",
       "      <td>17.584</td>\n",
       "      <td>299331.6505</td>\n",
       "      <td>18534.46600</td>\n",
       "      <td>23.8989</td>\n",
       "      <td>24.2641</td>\n",
       "      <td>22.8221</td>\n",
       "      <td>33.1606</td>\n",
       "      <td>22.6807</td>\n",
       "      <td>...</td>\n",
       "      <td>11.436</td>\n",
       "      <td>2.16</td>\n",
       "      <td>2.47</td>\n",
       "      <td>2.08</td>\n",
       "      <td>NaN</td>\n",
       "      <td>278.1</td>\n",
       "      <td>6620.0</td>\n",
       "      <td>12484.0</td>\n",
       "      <td>81.8099</td>\n",
       "      <td>NaN</td>\n",
       "    </tr>\n",
       "    <tr>\n",
       "      <th>1959-05-01</th>\n",
       "      <td>2493.228</td>\n",
       "      <td>2345.8</td>\n",
       "      <td>17.796</td>\n",
       "      <td>301372.9597</td>\n",
       "      <td>18679.66354</td>\n",
       "      <td>24.2589</td>\n",
       "      <td>24.4655</td>\n",
       "      <td>23.0418</td>\n",
       "      <td>33.3190</td>\n",
       "      <td>23.1424</td>\n",
       "      <td>...</td>\n",
       "      <td>11.454</td>\n",
       "      <td>2.17</td>\n",
       "      <td>2.48</td>\n",
       "      <td>2.08</td>\n",
       "      <td>95.3</td>\n",
       "      <td>280.1</td>\n",
       "      <td>6753.0</td>\n",
       "      <td>12646.0</td>\n",
       "      <td>80.7315</td>\n",
       "      <td>NaN</td>\n",
       "    </tr>\n",
       "  </tbody>\n",
       "</table>\n",
       "<p>5 rows × 128 columns</p>\n",
       "</div>"
      ],
      "text/plain": [
       "                 RPI  W875RX1  DPCERA3M086SBEA    CMRMTSPLx      RETAILx  \\\n",
       "date                                                                       \n",
       "1959-01-01  2437.296   2288.8           17.302  292258.8329  18235.77392   \n",
       "1959-02-01  2446.902   2297.0           17.482  294429.5453  18369.56308   \n",
       "1959-03-01  2462.689   2314.0           17.647  293425.3813  18523.05762   \n",
       "1959-04-01  2478.744   2330.3           17.584  299331.6505  18534.46600   \n",
       "1959-05-01  2493.228   2345.8           17.796  301372.9597  18679.66354   \n",
       "\n",
       "             INDPRO  IPFPNSS  IPFINAL  IPCONGD  IPDCONGD  ...  \\\n",
       "date                                                      ...   \n",
       "1959-01-01  22.6250  23.4581  22.1904  32.4078   21.9882  ...   \n",
       "1959-02-01  23.0681  23.7747  22.3827  32.6455   22.1036  ...   \n",
       "1959-03-01  23.4004  23.9186  22.4925  32.6455   22.5365  ...   \n",
       "1959-04-01  23.8989  24.2641  22.8221  33.1606   22.6807  ...   \n",
       "1959-05-01  24.2589  24.4655  23.0418  33.3190   23.1424  ...   \n",
       "\n",
       "            DSERRG3M086SBEA  CES0600000008  CES2000000008  CES3000000008  \\\n",
       "date                                                                       \n",
       "1959-01-01           11.358           2.13           2.45           2.04   \n",
       "1959-02-01           11.375           2.14           2.46           2.05   \n",
       "1959-03-01           11.395           2.15           2.45           2.07   \n",
       "1959-04-01           11.436           2.16           2.47           2.08   \n",
       "1959-05-01           11.454           2.17           2.48           2.08   \n",
       "\n",
       "            UMCSENTx  MZMSL  DTCOLNVHFNM  DTCTHFNM   INVEST  VXOCLSx  \n",
       "date                                                                  \n",
       "1959-01-01       NaN  274.9       6476.0   12298.0  84.2043      NaN  \n",
       "1959-02-01       NaN  276.0       6476.0   12298.0  83.5280      NaN  \n",
       "1959-03-01       NaN  277.4       6508.0   12349.0  81.6405      NaN  \n",
       "1959-04-01       NaN  278.1       6620.0   12484.0  81.8099      NaN  \n",
       "1959-05-01      95.3  280.1       6753.0   12646.0  80.7315      NaN  \n",
       "\n",
       "[5 rows x 128 columns]"
      ]
     },
     "execution_count": 11,
     "metadata": {},
     "output_type": "execute_result"
    }
   ],
   "source": [
    "fred_data.head()"
   ]
  },
  {
   "cell_type": "code",
   "execution_count": 99,
   "metadata": {},
   "outputs": [
    {
     "name": "stdout",
     "output_type": "stream",
     "text": [
      "<class 'pandas.core.frame.DataFrame'>\n",
      "Index: 744 entries, 1959-01-01 to 2020-12-01\n",
      "Columns: 128 entries, RPI to VXOCLSx\n",
      "dtypes: float64(128)\n",
      "memory usage: 749.8+ KB\n"
     ]
    }
   ],
   "source": [
    "fred_data.info()"
   ]
  },
  {
   "cell_type": "code",
   "execution_count": 101,
   "metadata": {},
   "outputs": [
    {
     "data": {
      "image/png": "[encoded data removed]",
      "text/plain": [
       "<Figure size 576x432 with 1 Axes>"
      ]
     },
     "metadata": {
      "needs_background": "light"
     },
     "output_type": "display_data"
    }
   ],
   "source": [
    "## Check transformation logic\n",
    "plot_series(fred_data[\"RPI\"],xlabel=\"date\",ylabel=\"$ s\",title=\"RPI\",label = \"RPI\")"
   ]
  },
  {
   "cell_type": "code",
   "execution_count": 107,
   "metadata": {},
   "outputs": [],
   "source": [
    "## Write functions for each transformation\n",
    "def transform(tseries, tf_type, drop_null = False):\n",
    "    final_tseries = None\n",
    "    if tf_type == 1:\n",
    "        final_tseries = tseries\n",
    "    elif tf_type == 2:\n",
    "        final_tseries = tseries.diff()\n",
    "    elif tf_type == 3:\n",
    "        final_tseries = tseries.diff().diff()\n",
    "    elif tf_type == 4:\n",
    "        final_tseries = np.log(tseries)\n",
    "    elif tf_type == 5:\n",
    "        final_tseries = np.log(tseries).diff()\n",
    "    elif tf_type == 6:\n",
    "        final_tseries = np.log(tseries).diff().diff()\n",
    "    elif tf_type == 7:\n",
    "        final_tseries = (tseries/tseries.shift() - 1).diff()\n",
    "    \n",
    "    if drop_null:\n",
    "        final_tseries = final_tseries.dropna()\n",
    "    return final_tseries"
   ]
  },
  {
   "cell_type": "code",
   "execution_count": 109,
   "metadata": {},
   "outputs": [],
   "source": [
    "for key, value in transformation_info.items():\n",
    "    fred_data[\"transformed_{}\".format(key)] = transform(fred_data[key], value)"
   ]
  },
  {
   "cell_type": "code",
   "execution_count": 112,
   "metadata": {},
   "outputs": [
    {
     "data": {
      "image/png": "[encoded data removed]",
      "text/plain": [
       "<Figure size 576x432 with 1 Axes>"
      ]
     },
     "metadata": {
      "needs_background": "light"
     },
     "output_type": "display_data"
    }
   ],
   "source": [
    "plot_series(fred_data[\"transformed_RPI\"],xlabel=\"date\",ylabel=\"$ s\",title=\"RPI\",label = \"RPI\")"
   ]
  },
  {
   "cell_type": "markdown",
   "metadata": {},
   "source": [
    "## Join with data to form one mega dataset"
   ]
  },
  {
   "cell_type": "code",
   "execution_count": 118,
   "metadata": {},
   "outputs": [],
   "source": [
    "final_data = data.join(fred_data, how='outer', lsuffix='_left', rsuffix='_right')"
   ]
  },
  {
   "cell_type": "code",
   "execution_count": 119,
   "metadata": {},
   "outputs": [],
   "source": [
    "final_data.reset_index().to_csv(\"data/main_df.csv\",index=False)"
   ]
  }
 ],
 "metadata": {
  "kernelspec": {
   "display_name": "Python 3",
   "language": "python",
   "name": "python3"
  },
  "language_info": {
   "codemirror_mode": {
    "name": "ipython",
    "version": 3
   },
   "file_extension": ".py",
   "mimetype": "text/x-python",
   "name": "python",
   "nbconvert_exporter": "python",
   "pygments_lexer": "ipython3",
   "version": "3.8.2"
  }
 },
 "nbformat": 4,
 "nbformat_minor": 4
}
