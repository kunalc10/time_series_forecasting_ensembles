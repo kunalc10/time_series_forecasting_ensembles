{
 "cells": [
  {
   "cell_type": "code",
   "execution_count": 1,
   "id": "grateful-makeup",
   "metadata": {},
   "outputs": [],
   "source": [
    "import pandas as pd\n",
    "import numpy as np\n",
    "import matplotlib.pyplot as plt\n",
    "%matplotlib inline\n",
    "from datetime import datetime"
   ]
  },
  {
   "cell_type": "code",
   "execution_count": 2,
   "id": "falling-township",
   "metadata": {},
   "outputs": [],
   "source": [
    "import warnings\n",
    "warnings.filterwarnings(\"ignore\")"
   ]
  },
  {
   "cell_type": "code",
   "execution_count": 3,
   "id": "alive-amplifier",
   "metadata": {},
   "outputs": [
    {
     "name": "stdout",
     "output_type": "stream",
     "text": [
      "/Users/kunalchakraborty/Downloads/industry_project_HQ\n"
     ]
    }
   ],
   "source": [
    "## Read data\n",
    "import os\n",
    "print(os.getcwd())"
   ]
  },
  {
   "cell_type": "code",
   "execution_count": 4,
   "id": "selective-state",
   "metadata": {},
   "outputs": [],
   "source": [
    "### Load training data\n",
    "data = pd.read_csv(\"data/ag_transformed_features.csv\")\n",
    "## Transform date\n",
    "data[\"date\"] = data[\"date\"].apply(lambda x: datetime.strptime(x, \"%Y-%m-%d\").date())"
   ]
  },
  {
   "cell_type": "code",
   "execution_count": 5,
   "id": "fallen-deposit",
   "metadata": {},
   "outputs": [],
   "source": [
    "used_features = [\"dfy\", \"infl\", \"svar\", \"d/e\", \"lty\", \"tms\", \"tbl\", \"dfr\", \"d/p\", \"d/y\", \"ltr\", \"e/p\"]\n",
    "target = [\"premium\"]"
   ]
  },
  {
   "cell_type": "code",
   "execution_count": 6,
   "id": "southeast-immigration",
   "metadata": {},
   "outputs": [],
   "source": [
    "data.set_index(\"date\", inplace=True)"
   ]
  },
  {
   "cell_type": "markdown",
   "id": "remarkable-moment",
   "metadata": {},
   "source": [
    "## Fix X and Y"
   ]
  },
  {
   "cell_type": "code",
   "execution_count": 12,
   "id": "preceding-gravity",
   "metadata": {},
   "outputs": [],
   "source": [
    "X = data[used_features].copy()\n",
    "Y = data[target].copy()\n",
    "#----------------------#\n",
    "X = X.dropna()\n",
    "full_datelist = X.index.tolist()\n",
    "Y = Y[Y.index.isin(full_datelist)]"
   ]
  },
  {
   "cell_type": "code",
   "execution_count": 7,
   "id": "played-glossary",
   "metadata": {},
   "outputs": [],
   "source": [
    "from sklearn.preprocessing import StandardScaler\n",
    "\n",
    "scaler = StandardScaler()\n",
    "\n",
    "def fix_pred_format(pred_array):\n",
    "    pred_list = []\n",
    "    for pred in pred_array:\n",
    "        pred_list.append(pred[0])\n",
    "    return pred_list"
   ]
  },
  {
   "cell_type": "code",
   "execution_count": 18,
   "id": "accepted-tsunami",
   "metadata": {},
   "outputs": [],
   "source": [
    "## Check the rolling window training scheme\n",
    "\n",
    "### Write a function for rolling model training. Use it for predictions as well\n",
    "def roll_training(Y,X, datelist, model, model_name, train_rolling_length = 60, forecast_ahead = 1, test_rolling_length = 1, verbose=False):\n",
    "    \"\"\"\n",
    "    Y : Target variable\n",
    "    X : Training data\n",
    "    \"\"\"\n",
    "    \n",
    "    predictions = []\n",
    "    int_start  = 0\n",
    "    for int_end in range(train_rolling_length, len(datelist)-forecast_ahead, test_rolling_length):\n",
    "        # Define intervals\n",
    "        train_interval = datelist[int_start:int_end]\n",
    "        test_interval = datelist[int_end:int_end+test_rolling_length]\n",
    "        \n",
    "        # train interval for yt would be different\n",
    "        train_interval_y = datelist[int_start+forecast_ahead:int_end+forecast_ahead]\n",
    "        test_interval_y = datelist[int_end+forecast_ahead:int_end+test_rolling_length+forecast_ahead]\n",
    "        \n",
    "        if verbose:\n",
    "            print(\"Traing start date = {} and end date = {}\".format(min(train_interval), max(train_interval)))\n",
    "            print(\"Testing start date = {} and end date = {}\".format(min(test_interval), max(test_interval)))\n",
    "            print(\"Yt date  = {} and {}\".format(min(train_interval_y), max(train_interval_y)))\n",
    "            print(\"Prediction Yt date = {} and {} \".format(min(test_interval_y), max(test_interval_y)))\n",
    "        Yt = Y.loc[train_interval_y]\n",
    "        Xt = X.loc[train_interval]\n",
    "        # Testing data\n",
    "        Xt_test = X.loc[test_interval]\n",
    "        # Normalize data\n",
    "        Xt = scaler.fit_transform(Xt)\n",
    "        Xt_test = scaler.transform(Xt_test)\n",
    "        \n",
    "        model.fit(Xt,Yt)\n",
    "        # Perform prediction\n",
    "        Yt_pred = model.predict(Xt_test)\n",
    "        if model_name == \"reg\":\n",
    "            # Fix prediction format\n",
    "            Yt_pred = fix_pred_format(Yt_pred)\n",
    "        df_temp = pd.DataFrame([test_interval_y, Yt_pred]).T\n",
    "        df_temp.columns = [\"date\",model_name]\n",
    "        predictions.append(df_temp)\n",
    "        # Update index\n",
    "        int_start += test_rolling_length\n",
    "        \n",
    "    pred_df = pd.concat(predictions)\n",
    "    pred_df = pred_df.set_index(\"date\")\n",
    "    return pred_df"
   ]
  },
  {
   "cell_type": "code",
   "execution_count": 20,
   "id": "vulnerable-christmas",
   "metadata": {},
   "outputs": [],
   "source": [
    "def measure_prediction_performance(ypred, yactual, datelist, metric):\n",
    "    yactual = yactual[yactual.index.isin(datelist)]\n",
    "    ypred = ypred[ypred.index.isin(datelist)]\n",
    "    return metric(yactual, ypred)"
   ]
  },
  {
   "cell_type": "code",
   "execution_count": 22,
   "id": "educated-night",
   "metadata": {},
   "outputs": [],
   "source": [
    "## Test Rolling regression on RF\n",
    "from sklearn.ensemble import RandomForestRegressor\n",
    "from sklearn.metrics import r2_score\n",
    "\n",
    "rf = RandomForestRegressor()"
   ]
  },
  {
   "cell_type": "code",
   "execution_count": 19,
   "id": "previous-petite",
   "metadata": {},
   "outputs": [],
   "source": [
    "predictions = roll_training(Y,X,full_datelist,rf,\"test_rf\")"
   ]
  },
  {
   "cell_type": "code",
   "execution_count": 23,
   "id": "fourth-toyota",
   "metadata": {},
   "outputs": [
    {
     "data": {
      "text/plain": [
       "-0.14986509464892728"
      ]
     },
     "execution_count": 23,
     "metadata": {},
     "output_type": "execute_result"
    }
   ],
   "source": [
    "measure_prediction_performance(predictions, Y, predictions.index.tolist(),r2_score)"
   ]
  },
  {
   "cell_type": "markdown",
   "id": "metropolitan-suite",
   "metadata": {},
   "source": [
    "### Check R2 score as a function of forecast length"
   ]
  },
  {
   "cell_type": "code",
   "execution_count": 25,
   "id": "latter-afghanistan",
   "metadata": {},
   "outputs": [],
   "source": [
    "r2score_list = []\n",
    "for forecast in range(0,13):\n",
    "    predictions = roll_training(Y,X,full_datelist,rf,\"test_rf\",forecast_ahead=forecast)\n",
    "    r2score_list.append(measure_prediction_performance(predictions, Y, predictions.index.tolist(), r2_score))"
   ]
  },
  {
   "cell_type": "code",
   "execution_count": 26,
   "id": "alive-breakdown",
   "metadata": {},
   "outputs": [
    {
     "data": {
      "text/plain": [
       "<BarContainer object of 13 artists>"
      ]
     },
     "execution_count": 26,
     "metadata": {},
     "output_type": "execute_result"
    },
    {
     "data": {
      "image/png": "[encoded data removed]",
      "text/plain": [
       "<Figure size 432x288 with 1 Axes>"
      ]
     },
     "metadata": {
      "needs_background": "light"
     },
     "output_type": "display_data"
    }
   ],
   "source": [
    "plt.figure()\n",
    "plt.bar(range(0,13), r2score_list)"
   ]
  },
  {
   "cell_type": "code",
   "execution_count": 28,
   "id": "novel-walnut",
   "metadata": {},
   "outputs": [],
   "source": [
    "## Check this for all the models\n",
    "from sklearn.linear_model import Ridge\n",
    "from sklearn.linear_model import LinearRegression\n",
    "from sklearn.linear_model import Lasso\n",
    "from sklearn.ensemble import ExtraTreesRegressor\n",
    "from sklearn.ensemble import GradientBoostingRegressor\n",
    "from sklearn. ensemble import AdaBoostRegressor\n",
    "\n",
    "ridge = Ridge(alpha=0.01)\n",
    "lasso = Lasso(alpha = 2)\n",
    "lr = LinearRegression()\n",
    "et = ExtraTreesRegressor(max_depth=3)\n",
    "gb = GradientBoostingRegressor(max_depth=3)\n",
    "ada = AdaBoostRegressor()"
   ]
  },
  {
   "cell_type": "code",
   "execution_count": 29,
   "id": "favorite-attention",
   "metadata": {},
   "outputs": [
    {
     "data": {
      "text/plain": [
       "Text(0.5, 1.0, 'Ridge')"
      ]
     },
     "execution_count": 29,
     "metadata": {},
     "output_type": "execute_result"
    },
    {
     "data": {
      "image/png": "[encoded data removed]",
      "text/plain": [
       "<Figure size 432x288 with 1 Axes>"
      ]
     },
     "metadata": {
      "needs_background": "light"
     },
     "output_type": "display_data"
    }
   ],
   "source": [
    "r2score_list = []\n",
    "for forecast in range(0,13):\n",
    "    predictions = roll_training(Y,X,full_datelist, ridge,\"test_ridge\",forecast_ahead=forecast)\n",
    "    r2score_list.append(measure_prediction_performance(predictions, Y, predictions.index.tolist(), r2_score))\n",
    "    \n",
    "plt.figure()\n",
    "plt.bar(range(0,13), r2score_list)\n",
    "plt.title(\"Ridge\")"
   ]
  },
  {
   "cell_type": "code",
   "execution_count": 30,
   "id": "elementary-director",
   "metadata": {},
   "outputs": [
    {
     "data": {
      "text/plain": [
       "Text(0.5, 1.0, 'Lasso')"
      ]
     },
     "execution_count": 30,
     "metadata": {},
     "output_type": "execute_result"
    },
    {
     "data": {
      "image/png": "[encoded data removed]",
      "text/plain": [
       "<Figure size 432x288 with 1 Axes>"
      ]
     },
     "metadata": {
      "needs_background": "light"
     },
     "output_type": "display_data"
    }
   ],
   "source": [
    "r2score_list = []\n",
    "for forecast in range(0,13):\n",
    "    predictions = roll_training(Y,X,full_datelist, lasso,\"test_lasso\",forecast_ahead=forecast)\n",
    "    r2score_list.append(measure_prediction_performance(predictions, Y, predictions.index.tolist(), r2_score))\n",
    "    \n",
    "plt.figure()\n",
    "plt.bar(range(0,13), r2score_list)\n",
    "plt.title(\"Lasso\")"
   ]
  },
  {
   "cell_type": "code",
   "execution_count": 31,
   "id": "greater-national",
   "metadata": {},
   "outputs": [
    {
     "data": {
      "text/plain": [
       "Text(0.5, 1.0, 'Linear regression')"
      ]
     },
     "execution_count": 31,
     "metadata": {},
     "output_type": "execute_result"
    },
    {
     "data": {
      "image/png": "[encoded data removed]",
      "text/plain": [
       "<Figure size 432x288 with 1 Axes>"
      ]
     },
     "metadata": {
      "needs_background": "light"
     },
     "output_type": "display_data"
    }
   ],
   "source": [
    "r2score_list = []\n",
    "for forecast in range(0,13):\n",
    "    predictions = roll_training(Y,X,full_datelist, lr,\"test_lr\",forecast_ahead=forecast)\n",
    "    r2score_list.append(measure_prediction_performance(predictions, Y, predictions.index.tolist(), r2_score))\n",
    "    \n",
    "plt.figure()\n",
    "plt.bar(range(0,13), r2score_list)\n",
    "plt.title(\"Linear regression\")"
   ]
  },
  {
   "cell_type": "code",
   "execution_count": 32,
   "id": "compliant-philosophy",
   "metadata": {},
   "outputs": [
    {
     "data": {
      "text/plain": [
       "Text(0.5, 1.0, 'extra trees')"
      ]
     },
     "execution_count": 32,
     "metadata": {},
     "output_type": "execute_result"
    },
    {
     "data": {
      "image/png": "[encoded data removed]",
      "text/plain": [
       "<Figure size 432x288 with 1 Axes>"
      ]
     },
     "metadata": {
      "needs_background": "light"
     },
     "output_type": "display_data"
    }
   ],
   "source": [
    "r2score_list = []\n",
    "for forecast in range(0,13):\n",
    "    predictions = roll_training(Y,X,full_datelist, et,\"test_et\",forecast_ahead=forecast)\n",
    "    r2score_list.append(measure_prediction_performance(predictions, Y, predictions.index.tolist(), r2_score))\n",
    "    \n",
    "plt.figure()\n",
    "plt.bar(range(0,13), r2score_list)\n",
    "plt.title(\"extra trees\")"
   ]
  },
  {
   "cell_type": "code",
   "execution_count": 33,
   "id": "spread-membership",
   "metadata": {},
   "outputs": [
    {
     "data": {
      "text/plain": [
       "Text(0.5, 1.0, 'Gradient boost')"
      ]
     },
     "execution_count": 33,
     "metadata": {},
     "output_type": "execute_result"
    },
    {
     "data": {
      "image/png": "[encoded data removed]",
      "text/plain": [
       "<Figure size 432x288 with 1 Axes>"
      ]
     },
     "metadata": {
      "needs_background": "light"
     },
     "output_type": "display_data"
    }
   ],
   "source": [
    "r2score_list = []\n",
    "for forecast in range(0,13):\n",
    "    predictions = roll_training(Y,X,full_datelist, gb,\"test_gb\",forecast_ahead=forecast)\n",
    "    r2score_list.append(measure_prediction_performance(predictions, Y, predictions.index.tolist(), r2_score))\n",
    "    \n",
    "plt.figure()\n",
    "plt.bar(range(0,13), r2score_list)\n",
    "plt.title(\"Gradient boost\")"
   ]
  },
  {
   "cell_type": "code",
   "execution_count": 34,
   "id": "distributed-manchester",
   "metadata": {},
   "outputs": [
    {
     "data": {
      "text/plain": [
       "Text(0.5, 1.0, 'Ada boost')"
      ]
     },
     "execution_count": 34,
     "metadata": {},
     "output_type": "execute_result"
    },
    {
     "data": {
      "image/png": "[encoded data removed]",
      "text/plain": [
       "<Figure size 432x288 with 1 Axes>"
      ]
     },
     "metadata": {
      "needs_background": "light"
     },
     "output_type": "display_data"
    }
   ],
   "source": [
    "r2score_list = []\n",
    "for forecast in range(0,13):\n",
    "    predictions = roll_training(Y,X,full_datelist, ada,\"test_ada\",forecast_ahead=forecast)\n",
    "    r2score_list.append(measure_prediction_performance(predictions, Y, predictions.index.tolist(), r2_score))\n",
    "    \n",
    "plt.figure()\n",
    "plt.bar(range(0,13), r2score_list)\n",
    "plt.title(\"Ada boost\")"
   ]
  },
  {
   "cell_type": "markdown",
   "id": "daily-yesterday",
   "metadata": {},
   "source": [
    "### Generate mini - pred df"
   ]
  },
  {
   "cell_type": "code",
   "execution_count": 36,
   "id": "colonial-sapphire",
   "metadata": {},
   "outputs": [],
   "source": [
    "forecast=1\n",
    "predictions_ada = roll_training(Y,X,full_datelist, ada,\"ada\",forecast_ahead=forecast)\n",
    "predictions_xg = roll_training(Y,X,full_datelist, gb,\"gb\",forecast_ahead=forecast)\n",
    "predictions_ridge = roll_training(Y,X,full_datelist, ridge,\"ridge\",forecast_ahead=forecast)\n",
    "predictions_lasso = roll_training(Y,X,full_datelist, lasso,\"lasso\",forecast_ahead=forecast)\n",
    "predictions_lr = roll_training(Y,X,full_datelist, lr,\"lr\",forecast_ahead=forecast)\n",
    "predictions_rf = roll_training(Y,X,full_datelist, rf,\"rf\",forecast_ahead=forecast)\n",
    "\n",
    "mini_predictions_df = pd.concat([predictions_ada,predictions_xg,predictions_ridge,predictions_lasso,predictions_lr,\n",
    "                                predictions_rf], axis=1)"
   ]
  },
  {
   "cell_type": "code",
   "execution_count": 38,
   "id": "accessible-forth",
   "metadata": {},
   "outputs": [],
   "source": [
    "mini_predictions_df[\"ridge\"] = mini_predictions_df[\"ridge\"].apply(lambda x:x[0])\n",
    "mini_predictions_df[\"lr\"] = mini_predictions_df[\"lr\"].apply(lambda x:x[0])"
   ]
  },
  {
   "cell_type": "code",
   "execution_count": 43,
   "id": "interracial-animation",
   "metadata": {},
   "outputs": [],
   "source": [
    "mini_predictions_df[\"actuals\"] = Y[Y.index.isin(mini_predictions_df.index)]"
   ]
  },
  {
   "cell_type": "code",
   "execution_count": 44,
   "id": "opened-northern",
   "metadata": {},
   "outputs": [
    {
     "data": {
      "text/html": [
       "<div>\n",
       "<style scoped>\n",
       "    .dataframe tbody tr th:only-of-type {\n",
       "        vertical-align: middle;\n",
       "    }\n",
       "\n",
       "    .dataframe tbody tr th {\n",
       "        vertical-align: top;\n",
       "    }\n",
       "\n",
       "    .dataframe thead th {\n",
       "        text-align: right;\n",
       "    }\n",
       "</style>\n",
       "<table border=\"1\" class=\"dataframe\">\n",
       "  <thead>\n",
       "    <tr style=\"text-align: right;\">\n",
       "      <th></th>\n",
       "      <th>ada</th>\n",
       "      <th>gb</th>\n",
       "      <th>ridge</th>\n",
       "      <th>lasso</th>\n",
       "      <th>lr</th>\n",
       "      <th>rf</th>\n",
       "      <th>actuals</th>\n",
       "    </tr>\n",
       "    <tr>\n",
       "      <th>date</th>\n",
       "      <th></th>\n",
       "      <th></th>\n",
       "      <th></th>\n",
       "      <th></th>\n",
       "      <th></th>\n",
       "      <th></th>\n",
       "      <th></th>\n",
       "    </tr>\n",
       "  </thead>\n",
       "  <tbody>\n",
       "    <tr>\n",
       "      <th>1964-03-01</th>\n",
       "      <td>-0.003227</td>\n",
       "      <td>-0.022221</td>\n",
       "      <td>0.009175</td>\n",
       "      <td>0.006755</td>\n",
       "      <td>0.013970</td>\n",
       "      <td>-0.003334</td>\n",
       "      <td>0.014563</td>\n",
       "    </tr>\n",
       "    <tr>\n",
       "      <th>1964-04-01</th>\n",
       "      <td>0.005817</td>\n",
       "      <td>0.015173</td>\n",
       "      <td>0.018478</td>\n",
       "      <td>0.006981</td>\n",
       "      <td>0.024423</td>\n",
       "      <td>0.003343</td>\n",
       "      <td>0.005654</td>\n",
       "    </tr>\n",
       "    <tr>\n",
       "      <th>1964-05-01</th>\n",
       "      <td>0.008256</td>\n",
       "      <td>-0.012525</td>\n",
       "      <td>0.009564</td>\n",
       "      <td>0.006418</td>\n",
       "      <td>0.010677</td>\n",
       "      <td>0.000263</td>\n",
       "      <td>0.011331</td>\n",
       "    </tr>\n",
       "    <tr>\n",
       "      <th>1964-06-01</th>\n",
       "      <td>0.004383</td>\n",
       "      <td>0.009479</td>\n",
       "      <td>0.009216</td>\n",
       "      <td>0.006285</td>\n",
       "      <td>0.003326</td>\n",
       "      <td>0.007608</td>\n",
       "      <td>0.015892</td>\n",
       "    </tr>\n",
       "    <tr>\n",
       "      <th>1964-07-01</th>\n",
       "      <td>0.000603</td>\n",
       "      <td>0.009213</td>\n",
       "      <td>0.010681</td>\n",
       "      <td>0.006609</td>\n",
       "      <td>0.011294</td>\n",
       "      <td>0.001426</td>\n",
       "      <td>0.017688</td>\n",
       "    </tr>\n",
       "  </tbody>\n",
       "</table>\n",
       "</div>"
      ],
      "text/plain": [
       "                 ada        gb     ridge     lasso        lr        rf  \\\n",
       "date                                                                     \n",
       "1964-03-01 -0.003227 -0.022221  0.009175  0.006755  0.013970 -0.003334   \n",
       "1964-04-01  0.005817  0.015173  0.018478  0.006981  0.024423  0.003343   \n",
       "1964-05-01  0.008256 -0.012525  0.009564  0.006418  0.010677  0.000263   \n",
       "1964-06-01  0.004383  0.009479  0.009216  0.006285  0.003326  0.007608   \n",
       "1964-07-01  0.000603  0.009213  0.010681  0.006609  0.011294  0.001426   \n",
       "\n",
       "             actuals  \n",
       "date                  \n",
       "1964-03-01  0.014563  \n",
       "1964-04-01  0.005654  \n",
       "1964-05-01  0.011331  \n",
       "1964-06-01  0.015892  \n",
       "1964-07-01  0.017688  "
      ]
     },
     "execution_count": 44,
     "metadata": {},
     "output_type": "execute_result"
    }
   ],
   "source": [
    "mini_predictions_df.head()"
   ]
  },
  {
   "cell_type": "code",
   "execution_count": 46,
   "id": "indonesian-cassette",
   "metadata": {},
   "outputs": [],
   "source": [
    "mini_predictions_df.to_csv(\"data/mini_predictions.csv\")"
   ]
  },
  {
   "cell_type": "code",
   "execution_count": null,
   "id": "latter-linux",
   "metadata": {},
   "outputs": [],
   "source": []
  }
 ],
 "metadata": {
  "kernelspec": {
   "display_name": "Python 3",
   "language": "python",
   "name": "python3"
  },
  "language_info": {
   "codemirror_mode": {
    "name": "ipython",
    "version": 3
   },
   "file_extension": ".py",
   "mimetype": "text/x-python",
   "name": "python",
   "nbconvert_exporter": "python",
   "pygments_lexer": "ipython3",
   "version": "3.8.2"
  }
 },
 "nbformat": 4,
 "nbformat_minor": 5
}
